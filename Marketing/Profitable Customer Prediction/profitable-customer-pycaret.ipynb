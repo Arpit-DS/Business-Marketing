{
 "cells": [
  {
   "cell_type": "code",
   "execution_count": 1,
   "metadata": {
    "_cell_guid": "b1076dfc-b9ad-4769-8c92-a6c4dae69d19",
    "_uuid": "8f2839f25d086af736a60e9eeb907d3b93b6e0e5"
   },
   "outputs": [
    {
     "name": "stdout",
     "output_type": "stream",
     "text": [
      "/kaggle/input/predicting-profitable-customer-segments/customerTargeting.csv\n"
     ]
    }
   ],
   "source": [
    "# This Python 3 environment comes with many helpful analytics libraries installed\n",
    "# It is defined by the kaggle/python Docker image: https://github.com/kaggle/docker-python\n",
    "# For example, here's several helpful packages to load\n",
    "\n",
    "import numpy as np # linear algebra\n",
    "import pandas as pd # data processing, CSV file I/O (e.g. pd.read_csv)\n",
    "import warnings\n",
    "ignore=True\n",
    "import matplotlib.pyplot as plt\n",
    "import seaborn as sns\n",
    "# Input data files are available in the read-only \"../input/\" directory\n",
    "# For example, running this (by clicking run or pressing Shift+Enter) will list all files under the input directory\n",
    "\n",
    "import os\n",
    "for dirname, _, filenames in os.walk('/kaggle/input'):\n",
    "    for filename in filenames:\n",
    "        print(os.path.join(dirname, filename))\n",
    "\n",
    "# You can write up to 20GB to the current directory (/kaggle/working/) that gets preserved as output when you create a version using \"Save & Run All\" \n",
    "# You can also write temporary files to /kaggle/temp/, but they won't be saved outside of the current session"
   ]
  },
  {
   "cell_type": "markdown",
   "metadata": {},
   "source": [
    "**Content**\n",
    "In order to enable machine learning experimentation, this dataset has been structured as follows:\n",
    "\n",
    "Each row is a comparison between two groups of potential customers:<br>\n",
    "1. Column names starting with \"g1\" represent characteristics of the first customer group (these were known before the campaign was run).\n",
    "2. Column names starting with \"g2\" represent characteristics of the second customer group (these were known before the campaign was run)\n",
    "3. Column names starting with \"c_\" are features representing some comparison of the two groups (also known before the campaign was run)\n",
    "\n",
    "The last column, named \"target\", is categorical, with 3 categories:<br>\n",
    "0 - none of the two groups were profitable<br>\n",
    "1 - group1 turned out to be more profitable<br>\n",
    "2 - group2 turned out to be more profitable<br>\n",
    "\n",
    "**Inspiration**\n",
    "Can you build a machine learning classifier that accurately predicts which of the 2 groups (if any) will turn out to be more profitable?"
   ]
  },
  {
   "cell_type": "code",
   "execution_count": 2,
   "metadata": {},
   "outputs": [],
   "source": [
    "df=pd.read_csv(\"/kaggle/input/predicting-profitable-customer-segments/customerTargeting.csv\")"
   ]
  },
  {
   "cell_type": "code",
   "execution_count": 3,
   "metadata": {},
   "outputs": [
    {
     "data": {
      "text/html": [
       "<div>\n",
       "<style scoped>\n",
       "    .dataframe tbody tr th:only-of-type {\n",
       "        vertical-align: middle;\n",
       "    }\n",
       "\n",
       "    .dataframe tbody tr th {\n",
       "        vertical-align: top;\n",
       "    }\n",
       "\n",
       "    .dataframe thead th {\n",
       "        text-align: right;\n",
       "    }\n",
       "</style>\n",
       "<table border=\"1\" class=\"dataframe\">\n",
       "  <thead>\n",
       "    <tr style=\"text-align: right;\">\n",
       "      <th></th>\n",
       "      <th>g1_1</th>\n",
       "      <th>g1_2</th>\n",
       "      <th>g1_3</th>\n",
       "      <th>g1_4</th>\n",
       "      <th>g1_5</th>\n",
       "      <th>g1_6</th>\n",
       "      <th>g1_7</th>\n",
       "      <th>g1_8</th>\n",
       "      <th>g1_9</th>\n",
       "      <th>g1_10</th>\n",
       "      <th>...</th>\n",
       "      <th>c_20</th>\n",
       "      <th>c_21</th>\n",
       "      <th>c_22</th>\n",
       "      <th>c_23</th>\n",
       "      <th>c_24</th>\n",
       "      <th>c_25</th>\n",
       "      <th>c_26</th>\n",
       "      <th>c_27</th>\n",
       "      <th>c_28</th>\n",
       "      <th>target</th>\n",
       "    </tr>\n",
       "  </thead>\n",
       "  <tbody>\n",
       "    <tr>\n",
       "      <th>0</th>\n",
       "      <td>4.50</td>\n",
       "      <td>1</td>\n",
       "      <td>3</td>\n",
       "      <td>4</td>\n",
       "      <td>5</td>\n",
       "      <td>1</td>\n",
       "      <td>1</td>\n",
       "      <td>4</td>\n",
       "      <td>6</td>\n",
       "      <td>0</td>\n",
       "      <td>...</td>\n",
       "      <td>-0.383704</td>\n",
       "      <td>-0.065449</td>\n",
       "      <td>0.584000</td>\n",
       "      <td>0.488000</td>\n",
       "      <td>0</td>\n",
       "      <td>-3.232000</td>\n",
       "      <td>-1.944000</td>\n",
       "      <td>-0.007944</td>\n",
       "      <td>1.76</td>\n",
       "      <td>2</td>\n",
       "    </tr>\n",
       "    <tr>\n",
       "      <th>1</th>\n",
       "      <td>2.20</td>\n",
       "      <td>24</td>\n",
       "      <td>22</td>\n",
       "      <td>46</td>\n",
       "      <td>10</td>\n",
       "      <td>24</td>\n",
       "      <td>28</td>\n",
       "      <td>18</td>\n",
       "      <td>22</td>\n",
       "      <td>-4</td>\n",
       "      <td>...</td>\n",
       "      <td>-0.346839</td>\n",
       "      <td>-0.159744</td>\n",
       "      <td>-0.947614</td>\n",
       "      <td>0.463540</td>\n",
       "      <td>0</td>\n",
       "      <td>-5.342174</td>\n",
       "      <td>-1.321355</td>\n",
       "      <td>0.181064</td>\n",
       "      <td>1.85</td>\n",
       "      <td>1</td>\n",
       "    </tr>\n",
       "    <tr>\n",
       "      <th>2</th>\n",
       "      <td>12.00</td>\n",
       "      <td>7</td>\n",
       "      <td>4</td>\n",
       "      <td>11</td>\n",
       "      <td>18</td>\n",
       "      <td>8</td>\n",
       "      <td>11</td>\n",
       "      <td>2</td>\n",
       "      <td>10</td>\n",
       "      <td>-3</td>\n",
       "      <td>...</td>\n",
       "      <td>-2.673934</td>\n",
       "      <td>-1.592303</td>\n",
       "      <td>0.525305</td>\n",
       "      <td>-0.467169</td>\n",
       "      <td>0</td>\n",
       "      <td>-6.566521</td>\n",
       "      <td>-4.176403</td>\n",
       "      <td>-0.040277</td>\n",
       "      <td>2.05</td>\n",
       "      <td>2</td>\n",
       "    </tr>\n",
       "    <tr>\n",
       "      <th>3</th>\n",
       "      <td>1.91</td>\n",
       "      <td>8</td>\n",
       "      <td>5</td>\n",
       "      <td>13</td>\n",
       "      <td>14</td>\n",
       "      <td>6</td>\n",
       "      <td>7</td>\n",
       "      <td>6</td>\n",
       "      <td>9</td>\n",
       "      <td>-1</td>\n",
       "      <td>...</td>\n",
       "      <td>0.616027</td>\n",
       "      <td>0.404945</td>\n",
       "      <td>-1.506923</td>\n",
       "      <td>0.741964</td>\n",
       "      <td>0</td>\n",
       "      <td>-2.438120</td>\n",
       "      <td>-0.787132</td>\n",
       "      <td>-0.012101</td>\n",
       "      <td>1.82</td>\n",
       "      <td>0</td>\n",
       "    </tr>\n",
       "    <tr>\n",
       "      <th>4</th>\n",
       "      <td>2.50</td>\n",
       "      <td>23</td>\n",
       "      <td>16</td>\n",
       "      <td>39</td>\n",
       "      <td>14</td>\n",
       "      <td>33</td>\n",
       "      <td>25</td>\n",
       "      <td>18</td>\n",
       "      <td>27</td>\n",
       "      <td>8</td>\n",
       "      <td>...</td>\n",
       "      <td>-1.057214</td>\n",
       "      <td>-1.159294</td>\n",
       "      <td>0.751012</td>\n",
       "      <td>-0.182052</td>\n",
       "      <td>0</td>\n",
       "      <td>-1.259728</td>\n",
       "      <td>0.059574</td>\n",
       "      <td>0.042613</td>\n",
       "      <td>1.99</td>\n",
       "      <td>2</td>\n",
       "    </tr>\n",
       "  </tbody>\n",
       "</table>\n",
       "<p>5 rows × 71 columns</p>\n",
       "</div>"
      ],
      "text/plain": [
       "    g1_1  g1_2  g1_3  g1_4  g1_5  g1_6  g1_7  g1_8  g1_9  g1_10  ...  \\\n",
       "0   4.50     1     3     4     5     1     1     4     6      0  ...   \n",
       "1   2.20    24    22    46    10    24    28    18    22     -4  ...   \n",
       "2  12.00     7     4    11    18     8    11     2    10     -3  ...   \n",
       "3   1.91     8     5    13    14     6     7     6     9     -1  ...   \n",
       "4   2.50    23    16    39    14    33    25    18    27      8  ...   \n",
       "\n",
       "       c_20      c_21      c_22      c_23  c_24      c_25      c_26      c_27  \\\n",
       "0 -0.383704 -0.065449  0.584000  0.488000     0 -3.232000 -1.944000 -0.007944   \n",
       "1 -0.346839 -0.159744 -0.947614  0.463540     0 -5.342174 -1.321355  0.181064   \n",
       "2 -2.673934 -1.592303  0.525305 -0.467169     0 -6.566521 -4.176403 -0.040277   \n",
       "3  0.616027  0.404945 -1.506923  0.741964     0 -2.438120 -0.787132 -0.012101   \n",
       "4 -1.057214 -1.159294  0.751012 -0.182052     0 -1.259728  0.059574  0.042613   \n",
       "\n",
       "   c_28  target  \n",
       "0  1.76       2  \n",
       "1  1.85       1  \n",
       "2  2.05       2  \n",
       "3  1.82       0  \n",
       "4  1.99       2  \n",
       "\n",
       "[5 rows x 71 columns]"
      ]
     },
     "execution_count": 3,
     "metadata": {},
     "output_type": "execute_result"
    }
   ],
   "source": [
    "df.head()"
   ]
  },
  {
   "cell_type": "code",
   "execution_count": 4,
   "metadata": {},
   "outputs": [
    {
     "data": {
      "text/plain": [
       "(6620, 71)"
      ]
     },
     "execution_count": 4,
     "metadata": {},
     "output_type": "execute_result"
    }
   ],
   "source": [
    "df.shape"
   ]
  },
  {
   "cell_type": "code",
   "execution_count": 5,
   "metadata": {},
   "outputs": [
    {
     "name": "stdout",
     "output_type": "stream",
     "text": [
      "<class 'pandas.core.frame.DataFrame'>\n",
      "RangeIndex: 6620 entries, 0 to 6619\n",
      "Data columns (total 71 columns):\n",
      " #   Column  Non-Null Count  Dtype  \n",
      "---  ------  --------------  -----  \n",
      " 0   g1_1    6620 non-null   float64\n",
      " 1   g1_2    6620 non-null   int64  \n",
      " 2   g1_3    6620 non-null   int64  \n",
      " 3   g1_4    6620 non-null   int64  \n",
      " 4   g1_5    6620 non-null   int64  \n",
      " 5   g1_6    6620 non-null   int64  \n",
      " 6   g1_7    6620 non-null   int64  \n",
      " 7   g1_8    6620 non-null   int64  \n",
      " 8   g1_9    6620 non-null   int64  \n",
      " 9   g1_10   6620 non-null   int64  \n",
      " 10  g1_11   6620 non-null   int64  \n",
      " 11  g1_12   6620 non-null   int64  \n",
      " 12  g1_13   6620 non-null   float64\n",
      " 13  g1_14   6620 non-null   float64\n",
      " 14  g1_15   6620 non-null   float64\n",
      " 15  g1_16   6620 non-null   float64\n",
      " 16  g1_17   6620 non-null   float64\n",
      " 17  g1_18   6620 non-null   float64\n",
      " 18  g1_19   6620 non-null   float64\n",
      " 19  g1_20   6620 non-null   float64\n",
      " 20  g1_21   6620 non-null   float64\n",
      " 21  g2_1    6620 non-null   float64\n",
      " 22  g2_2    6620 non-null   int64  \n",
      " 23  g2_3    6620 non-null   int64  \n",
      " 24  g2_4    6620 non-null   int64  \n",
      " 25  g2_5    6620 non-null   int64  \n",
      " 26  g2_6    6620 non-null   int64  \n",
      " 27  g2_7    6620 non-null   int64  \n",
      " 28  g2_8    6620 non-null   int64  \n",
      " 29  g2_9    6620 non-null   int64  \n",
      " 30  g2_10   6620 non-null   int64  \n",
      " 31  g2_11   6620 non-null   int64  \n",
      " 32  g2_12   6620 non-null   int64  \n",
      " 33  g2_13   6620 non-null   float64\n",
      " 34  g2_14   6620 non-null   float64\n",
      " 35  g2_15   6620 non-null   float64\n",
      " 36  g2_16   6620 non-null   float64\n",
      " 37  g2_17   6620 non-null   float64\n",
      " 38  g2_18   6620 non-null   float64\n",
      " 39  g2_19   6620 non-null   float64\n",
      " 40  g2_20   6620 non-null   float64\n",
      " 41  g2_21   6620 non-null   float64\n",
      " 42  c_1     6620 non-null   float64\n",
      " 43  c_2     6620 non-null   int64  \n",
      " 44  c_3     6620 non-null   int64  \n",
      " 45  c_4     6620 non-null   int64  \n",
      " 46  c_5     6620 non-null   int64  \n",
      " 47  c_6     6620 non-null   int64  \n",
      " 48  c_7     6620 non-null   int64  \n",
      " 49  c_8     6620 non-null   int64  \n",
      " 50  c_9     6620 non-null   float64\n",
      " 51  c_10    6620 non-null   int64  \n",
      " 52  c_11    6620 non-null   int64  \n",
      " 53  c_12    6620 non-null   int64  \n",
      " 54  c_13    6620 non-null   int64  \n",
      " 55  c_14    6620 non-null   int64  \n",
      " 56  c_15    6620 non-null   int64  \n",
      " 57  c_16    6620 non-null   int64  \n",
      " 58  c_17    6620 non-null   int64  \n",
      " 59  c_18    6620 non-null   int64  \n",
      " 60  c_19    6620 non-null   int64  \n",
      " 61  c_20    6620 non-null   float64\n",
      " 62  c_21    6620 non-null   float64\n",
      " 63  c_22    6620 non-null   float64\n",
      " 64  c_23    6620 non-null   float64\n",
      " 65  c_24    6620 non-null   int64  \n",
      " 66  c_25    6620 non-null   float64\n",
      " 67  c_26    6620 non-null   float64\n",
      " 68  c_27    6620 non-null   float64\n",
      " 69  c_28    6620 non-null   float64\n",
      " 70  target  6620 non-null   int64  \n",
      "dtypes: float64(30), int64(41)\n",
      "memory usage: 3.6 MB\n"
     ]
    }
   ],
   "source": [
    "df.info()"
   ]
  },
  {
   "cell_type": "code",
   "execution_count": 6,
   "metadata": {},
   "outputs": [
    {
     "data": {
      "text/html": [
       "<div>\n",
       "<style scoped>\n",
       "    .dataframe tbody tr th:only-of-type {\n",
       "        vertical-align: middle;\n",
       "    }\n",
       "\n",
       "    .dataframe tbody tr th {\n",
       "        vertical-align: top;\n",
       "    }\n",
       "\n",
       "    .dataframe thead th {\n",
       "        text-align: right;\n",
       "    }\n",
       "</style>\n",
       "<table border=\"1\" class=\"dataframe\">\n",
       "  <thead>\n",
       "    <tr style=\"text-align: right;\">\n",
       "      <th></th>\n",
       "      <th>g1_1</th>\n",
       "      <th>g1_2</th>\n",
       "      <th>g1_3</th>\n",
       "      <th>g1_4</th>\n",
       "      <th>g1_5</th>\n",
       "      <th>g1_6</th>\n",
       "      <th>g1_7</th>\n",
       "      <th>g1_8</th>\n",
       "      <th>g1_9</th>\n",
       "      <th>g1_10</th>\n",
       "      <th>...</th>\n",
       "      <th>c_20</th>\n",
       "      <th>c_21</th>\n",
       "      <th>c_22</th>\n",
       "      <th>c_23</th>\n",
       "      <th>c_24</th>\n",
       "      <th>c_25</th>\n",
       "      <th>c_26</th>\n",
       "      <th>c_27</th>\n",
       "      <th>c_28</th>\n",
       "      <th>target</th>\n",
       "    </tr>\n",
       "  </thead>\n",
       "  <tbody>\n",
       "    <tr>\n",
       "      <th>count</th>\n",
       "      <td>6620.000000</td>\n",
       "      <td>6620.000000</td>\n",
       "      <td>6620.000000</td>\n",
       "      <td>6620.000000</td>\n",
       "      <td>6620.000000</td>\n",
       "      <td>6620.000000</td>\n",
       "      <td>6620.000000</td>\n",
       "      <td>6620.000000</td>\n",
       "      <td>6620.000000</td>\n",
       "      <td>6620.000000</td>\n",
       "      <td>...</td>\n",
       "      <td>6620.000000</td>\n",
       "      <td>6620.000000</td>\n",
       "      <td>6620.000000</td>\n",
       "      <td>6620.000000</td>\n",
       "      <td>6620.00000</td>\n",
       "      <td>6620.000000</td>\n",
       "      <td>6620.000000</td>\n",
       "      <td>6620.000000</td>\n",
       "      <td>6620.000000</td>\n",
       "      <td>6620.000000</td>\n",
       "    </tr>\n",
       "    <tr>\n",
       "      <th>mean</th>\n",
       "      <td>2.708779</td>\n",
       "      <td>14.424018</td>\n",
       "      <td>10.485650</td>\n",
       "      <td>24.909668</td>\n",
       "      <td>10.988066</td>\n",
       "      <td>13.412085</td>\n",
       "      <td>10.161027</td>\n",
       "      <td>10.745468</td>\n",
       "      <td>14.169033</td>\n",
       "      <td>3.251057</td>\n",
       "      <td>...</td>\n",
       "      <td>-0.029311</td>\n",
       "      <td>-0.006724</td>\n",
       "      <td>-0.004147</td>\n",
       "      <td>0.008827</td>\n",
       "      <td>0.00000</td>\n",
       "      <td>-0.228426</td>\n",
       "      <td>-0.103728</td>\n",
       "      <td>0.000408</td>\n",
       "      <td>1.917134</td>\n",
       "      <td>1.031722</td>\n",
       "    </tr>\n",
       "    <tr>\n",
       "      <th>std</th>\n",
       "      <td>1.857725</td>\n",
       "      <td>10.700787</td>\n",
       "      <td>8.384203</td>\n",
       "      <td>18.174948</td>\n",
       "      <td>5.635985</td>\n",
       "      <td>10.090030</td>\n",
       "      <td>7.495039</td>\n",
       "      <td>7.964247</td>\n",
       "      <td>9.866734</td>\n",
       "      <td>8.481210</td>\n",
       "      <td>...</td>\n",
       "      <td>1.220752</td>\n",
       "      <td>1.068199</td>\n",
       "      <td>0.663238</td>\n",
       "      <td>0.683422</td>\n",
       "      <td>0.32287</td>\n",
       "      <td>3.390902</td>\n",
       "      <td>1.944419</td>\n",
       "      <td>0.092761</td>\n",
       "      <td>0.302175</td>\n",
       "      <td>0.731042</td>\n",
       "    </tr>\n",
       "    <tr>\n",
       "      <th>min</th>\n",
       "      <td>1.050000</td>\n",
       "      <td>0.000000</td>\n",
       "      <td>0.000000</td>\n",
       "      <td>0.000000</td>\n",
       "      <td>1.000000</td>\n",
       "      <td>0.000000</td>\n",
       "      <td>0.000000</td>\n",
       "      <td>0.000000</td>\n",
       "      <td>0.000000</td>\n",
       "      <td>-27.000000</td>\n",
       "      <td>...</td>\n",
       "      <td>-4.684111</td>\n",
       "      <td>-4.319826</td>\n",
       "      <td>-2.512919</td>\n",
       "      <td>-3.118836</td>\n",
       "      <td>-2.00000</td>\n",
       "      <td>-15.202740</td>\n",
       "      <td>-9.181722</td>\n",
       "      <td>-0.750000</td>\n",
       "      <td>0.000000</td>\n",
       "      <td>0.000000</td>\n",
       "    </tr>\n",
       "    <tr>\n",
       "      <th>25%</th>\n",
       "      <td>1.667000</td>\n",
       "      <td>6.000000</td>\n",
       "      <td>4.000000</td>\n",
       "      <td>10.000000</td>\n",
       "      <td>6.000000</td>\n",
       "      <td>5.000000</td>\n",
       "      <td>4.000000</td>\n",
       "      <td>4.000000</td>\n",
       "      <td>6.000000</td>\n",
       "      <td>-2.000000</td>\n",
       "      <td>...</td>\n",
       "      <td>-0.716407</td>\n",
       "      <td>-0.531224</td>\n",
       "      <td>-0.440407</td>\n",
       "      <td>-0.406811</td>\n",
       "      <td>0.00000</td>\n",
       "      <td>-2.222226</td>\n",
       "      <td>-1.293471</td>\n",
       "      <td>-0.054331</td>\n",
       "      <td>1.710000</td>\n",
       "      <td>0.000000</td>\n",
       "    </tr>\n",
       "    <tr>\n",
       "      <th>50%</th>\n",
       "      <td>2.150000</td>\n",
       "      <td>13.000000</td>\n",
       "      <td>9.000000</td>\n",
       "      <td>22.000000</td>\n",
       "      <td>11.000000</td>\n",
       "      <td>12.000000</td>\n",
       "      <td>9.000000</td>\n",
       "      <td>9.000000</td>\n",
       "      <td>13.000000</td>\n",
       "      <td>1.000000</td>\n",
       "      <td>...</td>\n",
       "      <td>0.000000</td>\n",
       "      <td>0.000000</td>\n",
       "      <td>0.000000</td>\n",
       "      <td>0.001070</td>\n",
       "      <td>0.00000</td>\n",
       "      <td>-0.119378</td>\n",
       "      <td>-0.012487</td>\n",
       "      <td>0.000000</td>\n",
       "      <td>1.850000</td>\n",
       "      <td>1.000000</td>\n",
       "    </tr>\n",
       "    <tr>\n",
       "      <th>75%</th>\n",
       "      <td>2.800000</td>\n",
       "      <td>21.000000</td>\n",
       "      <td>15.000000</td>\n",
       "      <td>36.000000</td>\n",
       "      <td>16.000000</td>\n",
       "      <td>20.000000</td>\n",
       "      <td>15.000000</td>\n",
       "      <td>16.000000</td>\n",
       "      <td>21.000000</td>\n",
       "      <td>7.000000</td>\n",
       "      <td>...</td>\n",
       "      <td>0.654627</td>\n",
       "      <td>0.490504</td>\n",
       "      <td>0.410915</td>\n",
       "      <td>0.450104</td>\n",
       "      <td>0.00000</td>\n",
       "      <td>1.809334</td>\n",
       "      <td>1.035235</td>\n",
       "      <td>0.054825</td>\n",
       "      <td>2.020000</td>\n",
       "      <td>2.000000</td>\n",
       "    </tr>\n",
       "    <tr>\n",
       "      <th>max</th>\n",
       "      <td>23.000000</td>\n",
       "      <td>52.000000</td>\n",
       "      <td>47.000000</td>\n",
       "      <td>94.000000</td>\n",
       "      <td>20.000000</td>\n",
       "      <td>61.000000</td>\n",
       "      <td>43.000000</td>\n",
       "      <td>48.000000</td>\n",
       "      <td>52.000000</td>\n",
       "      <td>48.000000</td>\n",
       "      <td>...</td>\n",
       "      <td>4.821136</td>\n",
       "      <td>4.396281</td>\n",
       "      <td>2.987136</td>\n",
       "      <td>2.830550</td>\n",
       "      <td>2.00000</td>\n",
       "      <td>12.562698</td>\n",
       "      <td>8.209578</td>\n",
       "      <td>0.666667</td>\n",
       "      <td>4.330000</td>\n",
       "      <td>2.000000</td>\n",
       "    </tr>\n",
       "  </tbody>\n",
       "</table>\n",
       "<p>8 rows × 71 columns</p>\n",
       "</div>"
      ],
      "text/plain": [
       "              g1_1         g1_2         g1_3         g1_4         g1_5  \\\n",
       "count  6620.000000  6620.000000  6620.000000  6620.000000  6620.000000   \n",
       "mean      2.708779    14.424018    10.485650    24.909668    10.988066   \n",
       "std       1.857725    10.700787     8.384203    18.174948     5.635985   \n",
       "min       1.050000     0.000000     0.000000     0.000000     1.000000   \n",
       "25%       1.667000     6.000000     4.000000    10.000000     6.000000   \n",
       "50%       2.150000    13.000000     9.000000    22.000000    11.000000   \n",
       "75%       2.800000    21.000000    15.000000    36.000000    16.000000   \n",
       "max      23.000000    52.000000    47.000000    94.000000    20.000000   \n",
       "\n",
       "              g1_6         g1_7         g1_8         g1_9        g1_10  ...  \\\n",
       "count  6620.000000  6620.000000  6620.000000  6620.000000  6620.000000  ...   \n",
       "mean     13.412085    10.161027    10.745468    14.169033     3.251057  ...   \n",
       "std      10.090030     7.495039     7.964247     9.866734     8.481210  ...   \n",
       "min       0.000000     0.000000     0.000000     0.000000   -27.000000  ...   \n",
       "25%       5.000000     4.000000     4.000000     6.000000    -2.000000  ...   \n",
       "50%      12.000000     9.000000     9.000000    13.000000     1.000000  ...   \n",
       "75%      20.000000    15.000000    16.000000    21.000000     7.000000  ...   \n",
       "max      61.000000    43.000000    48.000000    52.000000    48.000000  ...   \n",
       "\n",
       "              c_20         c_21         c_22         c_23        c_24  \\\n",
       "count  6620.000000  6620.000000  6620.000000  6620.000000  6620.00000   \n",
       "mean     -0.029311    -0.006724    -0.004147     0.008827     0.00000   \n",
       "std       1.220752     1.068199     0.663238     0.683422     0.32287   \n",
       "min      -4.684111    -4.319826    -2.512919    -3.118836    -2.00000   \n",
       "25%      -0.716407    -0.531224    -0.440407    -0.406811     0.00000   \n",
       "50%       0.000000     0.000000     0.000000     0.001070     0.00000   \n",
       "75%       0.654627     0.490504     0.410915     0.450104     0.00000   \n",
       "max       4.821136     4.396281     2.987136     2.830550     2.00000   \n",
       "\n",
       "              c_25         c_26         c_27         c_28       target  \n",
       "count  6620.000000  6620.000000  6620.000000  6620.000000  6620.000000  \n",
       "mean     -0.228426    -0.103728     0.000408     1.917134     1.031722  \n",
       "std       3.390902     1.944419     0.092761     0.302175     0.731042  \n",
       "min     -15.202740    -9.181722    -0.750000     0.000000     0.000000  \n",
       "25%      -2.222226    -1.293471    -0.054331     1.710000     0.000000  \n",
       "50%      -0.119378    -0.012487     0.000000     1.850000     1.000000  \n",
       "75%       1.809334     1.035235     0.054825     2.020000     2.000000  \n",
       "max      12.562698     8.209578     0.666667     4.330000     2.000000  \n",
       "\n",
       "[8 rows x 71 columns]"
      ]
     },
     "execution_count": 6,
     "metadata": {},
     "output_type": "execute_result"
    }
   ],
   "source": [
    "df.describe()"
   ]
  },
  {
   "cell_type": "markdown",
   "metadata": {},
   "source": [
    "# <h1 style=\"background-color:Crimson;color:white;text-align:center;\">Analysing Target</h1>"
   ]
  },
  {
   "cell_type": "code",
   "execution_count": 9,
   "metadata": {},
   "outputs": [
    {
     "data": {
      "text/plain": [
       "<AxesSubplot:xlabel='target', ylabel='count'>"
      ]
     },
     "execution_count": 9,
     "metadata": {},
     "output_type": "execute_result"
    },
    {
     "data": {
      "image/png": "[encoded data removed]",
      "text/plain": [
       "<Figure size 864x504 with 1 Axes>"
      ]
     },
     "metadata": {
      "needs_background": "light"
     },
     "output_type": "display_data"
    }
   ],
   "source": [
    "fig=plt.figure(figsize=(12,7))\n",
    "sns.countplot(x=df[\"target\"], palette = 'rocket_r')"
   ]
  },
  {
   "cell_type": "markdown",
   "metadata": {},
   "source": [
    "<h1 style=\"background-color:Crimson;color:white;text-align:center;\">Dropping Feature(Variance Threshold)</h1>\n",
    "<div class=\"alert alert-info\">Dropping Columns based on low Variance since they do not contribute much in prediction. This method removes features with variation below a certain cutoff.</div>"
   ]
  },
  {
   "cell_type": "code",
   "execution_count": 10,
   "metadata": {},
   "outputs": [],
   "source": [
    "from sklearn.feature_selection import VarianceThreshold\n",
    "X=df.drop(['target'],axis=1)\n",
    "Y=df['target']"
   ]
  },
  {
   "cell_type": "code",
   "execution_count": 11,
   "metadata": {},
   "outputs": [
    {
     "data": {
      "text/plain": [
       "VarianceThreshold(threshold=0)"
      ]
     },
     "execution_count": 11,
     "metadata": {},
     "output_type": "execute_result"
    }
   ],
   "source": [
    "var_thres=VarianceThreshold(threshold=0)\n",
    "var_thres.fit(X)"
   ]
  },
  {
   "cell_type": "code",
   "execution_count": 12,
   "metadata": {},
   "outputs": [
    {
     "data": {
      "text/plain": [
       "70"
      ]
     },
     "execution_count": 12,
     "metadata": {},
     "output_type": "execute_result"
    }
   ],
   "source": [
    "sum(var_thres.get_support()) #Counting columns with variance threshold by grt_support method"
   ]
  },
  {
   "cell_type": "code",
   "execution_count": 13,
   "metadata": {},
   "outputs": [],
   "source": [
    "constant_columns = [column for column in X.columns #Checking for contsant columns \n",
    "                    if column not in X.columns[var_thres.get_support()]]"
   ]
  },
  {
   "cell_type": "code",
   "execution_count": 14,
   "metadata": {},
   "outputs": [
    {
     "data": {
      "text/html": [
       "<div>\n",
       "<style scoped>\n",
       "    .dataframe tbody tr th:only-of-type {\n",
       "        vertical-align: middle;\n",
       "    }\n",
       "\n",
       "    .dataframe tbody tr th {\n",
       "        vertical-align: top;\n",
       "    }\n",
       "\n",
       "    .dataframe thead th {\n",
       "        text-align: right;\n",
       "    }\n",
       "</style>\n",
       "<table border=\"1\" class=\"dataframe\">\n",
       "  <thead>\n",
       "    <tr style=\"text-align: right;\">\n",
       "      <th></th>\n",
       "      <th>g1_1</th>\n",
       "      <th>g1_2</th>\n",
       "      <th>g1_3</th>\n",
       "      <th>g1_4</th>\n",
       "      <th>g1_5</th>\n",
       "      <th>g1_6</th>\n",
       "      <th>g1_7</th>\n",
       "      <th>g1_8</th>\n",
       "      <th>g1_9</th>\n",
       "      <th>g1_10</th>\n",
       "      <th>...</th>\n",
       "      <th>c_19</th>\n",
       "      <th>c_20</th>\n",
       "      <th>c_21</th>\n",
       "      <th>c_22</th>\n",
       "      <th>c_23</th>\n",
       "      <th>c_24</th>\n",
       "      <th>c_25</th>\n",
       "      <th>c_26</th>\n",
       "      <th>c_27</th>\n",
       "      <th>c_28</th>\n",
       "    </tr>\n",
       "  </thead>\n",
       "  <tbody>\n",
       "    <tr>\n",
       "      <th>0</th>\n",
       "      <td>4.50</td>\n",
       "      <td>1</td>\n",
       "      <td>3</td>\n",
       "      <td>4</td>\n",
       "      <td>5</td>\n",
       "      <td>1</td>\n",
       "      <td>1</td>\n",
       "      <td>4</td>\n",
       "      <td>6</td>\n",
       "      <td>0</td>\n",
       "      <td>...</td>\n",
       "      <td>-5</td>\n",
       "      <td>-0.383704</td>\n",
       "      <td>-0.065449</td>\n",
       "      <td>0.584000</td>\n",
       "      <td>0.488000</td>\n",
       "      <td>0</td>\n",
       "      <td>-3.232000</td>\n",
       "      <td>-1.944000</td>\n",
       "      <td>-0.007944</td>\n",
       "      <td>1.76</td>\n",
       "    </tr>\n",
       "    <tr>\n",
       "      <th>1</th>\n",
       "      <td>2.20</td>\n",
       "      <td>24</td>\n",
       "      <td>22</td>\n",
       "      <td>46</td>\n",
       "      <td>10</td>\n",
       "      <td>24</td>\n",
       "      <td>28</td>\n",
       "      <td>18</td>\n",
       "      <td>22</td>\n",
       "      <td>-4</td>\n",
       "      <td>...</td>\n",
       "      <td>-9</td>\n",
       "      <td>-0.346839</td>\n",
       "      <td>-0.159744</td>\n",
       "      <td>-0.947614</td>\n",
       "      <td>0.463540</td>\n",
       "      <td>0</td>\n",
       "      <td>-5.342174</td>\n",
       "      <td>-1.321355</td>\n",
       "      <td>0.181064</td>\n",
       "      <td>1.85</td>\n",
       "    </tr>\n",
       "    <tr>\n",
       "      <th>2</th>\n",
       "      <td>12.00</td>\n",
       "      <td>7</td>\n",
       "      <td>4</td>\n",
       "      <td>11</td>\n",
       "      <td>18</td>\n",
       "      <td>8</td>\n",
       "      <td>11</td>\n",
       "      <td>2</td>\n",
       "      <td>10</td>\n",
       "      <td>-3</td>\n",
       "      <td>...</td>\n",
       "      <td>-36</td>\n",
       "      <td>-2.673934</td>\n",
       "      <td>-1.592303</td>\n",
       "      <td>0.525305</td>\n",
       "      <td>-0.467169</td>\n",
       "      <td>0</td>\n",
       "      <td>-6.566521</td>\n",
       "      <td>-4.176403</td>\n",
       "      <td>-0.040277</td>\n",
       "      <td>2.05</td>\n",
       "    </tr>\n",
       "    <tr>\n",
       "      <th>3</th>\n",
       "      <td>1.91</td>\n",
       "      <td>8</td>\n",
       "      <td>5</td>\n",
       "      <td>13</td>\n",
       "      <td>14</td>\n",
       "      <td>6</td>\n",
       "      <td>7</td>\n",
       "      <td>6</td>\n",
       "      <td>9</td>\n",
       "      <td>-1</td>\n",
       "      <td>...</td>\n",
       "      <td>9</td>\n",
       "      <td>0.616027</td>\n",
       "      <td>0.404945</td>\n",
       "      <td>-1.506923</td>\n",
       "      <td>0.741964</td>\n",
       "      <td>0</td>\n",
       "      <td>-2.438120</td>\n",
       "      <td>-0.787132</td>\n",
       "      <td>-0.012101</td>\n",
       "      <td>1.82</td>\n",
       "    </tr>\n",
       "    <tr>\n",
       "      <th>4</th>\n",
       "      <td>2.50</td>\n",
       "      <td>23</td>\n",
       "      <td>16</td>\n",
       "      <td>39</td>\n",
       "      <td>14</td>\n",
       "      <td>33</td>\n",
       "      <td>25</td>\n",
       "      <td>18</td>\n",
       "      <td>27</td>\n",
       "      <td>8</td>\n",
       "      <td>...</td>\n",
       "      <td>-8</td>\n",
       "      <td>-1.057214</td>\n",
       "      <td>-1.159294</td>\n",
       "      <td>0.751012</td>\n",
       "      <td>-0.182052</td>\n",
       "      <td>0</td>\n",
       "      <td>-1.259728</td>\n",
       "      <td>0.059574</td>\n",
       "      <td>0.042613</td>\n",
       "      <td>1.99</td>\n",
       "    </tr>\n",
       "    <tr>\n",
       "      <th>...</th>\n",
       "      <td>...</td>\n",
       "      <td>...</td>\n",
       "      <td>...</td>\n",
       "      <td>...</td>\n",
       "      <td>...</td>\n",
       "      <td>...</td>\n",
       "      <td>...</td>\n",
       "      <td>...</td>\n",
       "      <td>...</td>\n",
       "      <td>...</td>\n",
       "      <td>...</td>\n",
       "      <td>...</td>\n",
       "      <td>...</td>\n",
       "      <td>...</td>\n",
       "      <td>...</td>\n",
       "      <td>...</td>\n",
       "      <td>...</td>\n",
       "      <td>...</td>\n",
       "      <td>...</td>\n",
       "      <td>...</td>\n",
       "      <td>...</td>\n",
       "    </tr>\n",
       "    <tr>\n",
       "      <th>6615</th>\n",
       "      <td>1.30</td>\n",
       "      <td>3</td>\n",
       "      <td>6</td>\n",
       "      <td>9</td>\n",
       "      <td>1</td>\n",
       "      <td>2</td>\n",
       "      <td>0</td>\n",
       "      <td>9</td>\n",
       "      <td>4</td>\n",
       "      <td>2</td>\n",
       "      <td>...</td>\n",
       "      <td>2</td>\n",
       "      <td>0.106613</td>\n",
       "      <td>0.044682</td>\n",
       "      <td>1.776000</td>\n",
       "      <td>-0.288000</td>\n",
       "      <td>0</td>\n",
       "      <td>2.888000</td>\n",
       "      <td>0.672000</td>\n",
       "      <td>-0.114780</td>\n",
       "      <td>2.09</td>\n",
       "    </tr>\n",
       "    <tr>\n",
       "      <th>6616</th>\n",
       "      <td>1.85</td>\n",
       "      <td>19</td>\n",
       "      <td>12</td>\n",
       "      <td>31</td>\n",
       "      <td>6</td>\n",
       "      <td>15</td>\n",
       "      <td>9</td>\n",
       "      <td>15</td>\n",
       "      <td>14</td>\n",
       "      <td>6</td>\n",
       "      <td>...</td>\n",
       "      <td>17</td>\n",
       "      <td>1.450189</td>\n",
       "      <td>1.128954</td>\n",
       "      <td>-0.465596</td>\n",
       "      <td>0.454124</td>\n",
       "      <td>0</td>\n",
       "      <td>-1.204408</td>\n",
       "      <td>-0.405118</td>\n",
       "      <td>-0.002936</td>\n",
       "      <td>1.87</td>\n",
       "    </tr>\n",
       "    <tr>\n",
       "      <th>6617</th>\n",
       "      <td>2.50</td>\n",
       "      <td>5</td>\n",
       "      <td>8</td>\n",
       "      <td>13</td>\n",
       "      <td>19</td>\n",
       "      <td>3</td>\n",
       "      <td>8</td>\n",
       "      <td>12</td>\n",
       "      <td>10</td>\n",
       "      <td>-5</td>\n",
       "      <td>...</td>\n",
       "      <td>-1</td>\n",
       "      <td>-0.370035</td>\n",
       "      <td>-0.075999</td>\n",
       "      <td>-0.051984</td>\n",
       "      <td>0.050770</td>\n",
       "      <td>0</td>\n",
       "      <td>1.743444</td>\n",
       "      <td>1.159725</td>\n",
       "      <td>0.019195</td>\n",
       "      <td>1.72</td>\n",
       "    </tr>\n",
       "    <tr>\n",
       "      <th>6618</th>\n",
       "      <td>1.80</td>\n",
       "      <td>5</td>\n",
       "      <td>4</td>\n",
       "      <td>9</td>\n",
       "      <td>10</td>\n",
       "      <td>4</td>\n",
       "      <td>3</td>\n",
       "      <td>2</td>\n",
       "      <td>3</td>\n",
       "      <td>1</td>\n",
       "      <td>...</td>\n",
       "      <td>3</td>\n",
       "      <td>0.313635</td>\n",
       "      <td>0.084571</td>\n",
       "      <td>-0.567168</td>\n",
       "      <td>-0.163008</td>\n",
       "      <td>0</td>\n",
       "      <td>1.959168</td>\n",
       "      <td>1.396416</td>\n",
       "      <td>0.071180</td>\n",
       "      <td>1.72</td>\n",
       "    </tr>\n",
       "    <tr>\n",
       "      <th>6619</th>\n",
       "      <td>1.95</td>\n",
       "      <td>35</td>\n",
       "      <td>37</td>\n",
       "      <td>72</td>\n",
       "      <td>1</td>\n",
       "      <td>26</td>\n",
       "      <td>15</td>\n",
       "      <td>31</td>\n",
       "      <td>16</td>\n",
       "      <td>11</td>\n",
       "      <td>...</td>\n",
       "      <td>14</td>\n",
       "      <td>0.349004</td>\n",
       "      <td>0.477046</td>\n",
       "      <td>-0.340996</td>\n",
       "      <td>-1.704303</td>\n",
       "      <td>0</td>\n",
       "      <td>-3.369651</td>\n",
       "      <td>-0.492463</td>\n",
       "      <td>0.042523</td>\n",
       "      <td>1.89</td>\n",
       "    </tr>\n",
       "  </tbody>\n",
       "</table>\n",
       "<p>6620 rows × 70 columns</p>\n",
       "</div>"
      ],
      "text/plain": [
       "       g1_1  g1_2  g1_3  g1_4  g1_5  g1_6  g1_7  g1_8  g1_9  g1_10  ...  c_19  \\\n",
       "0      4.50     1     3     4     5     1     1     4     6      0  ...    -5   \n",
       "1      2.20    24    22    46    10    24    28    18    22     -4  ...    -9   \n",
       "2     12.00     7     4    11    18     8    11     2    10     -3  ...   -36   \n",
       "3      1.91     8     5    13    14     6     7     6     9     -1  ...     9   \n",
       "4      2.50    23    16    39    14    33    25    18    27      8  ...    -8   \n",
       "...     ...   ...   ...   ...   ...   ...   ...   ...   ...    ...  ...   ...   \n",
       "6615   1.30     3     6     9     1     2     0     9     4      2  ...     2   \n",
       "6616   1.85    19    12    31     6    15     9    15    14      6  ...    17   \n",
       "6617   2.50     5     8    13    19     3     8    12    10     -5  ...    -1   \n",
       "6618   1.80     5     4     9    10     4     3     2     3      1  ...     3   \n",
       "6619   1.95    35    37    72     1    26    15    31    16     11  ...    14   \n",
       "\n",
       "          c_20      c_21      c_22      c_23  c_24      c_25      c_26  \\\n",
       "0    -0.383704 -0.065449  0.584000  0.488000     0 -3.232000 -1.944000   \n",
       "1    -0.346839 -0.159744 -0.947614  0.463540     0 -5.342174 -1.321355   \n",
       "2    -2.673934 -1.592303  0.525305 -0.467169     0 -6.566521 -4.176403   \n",
       "3     0.616027  0.404945 -1.506923  0.741964     0 -2.438120 -0.787132   \n",
       "4    -1.057214 -1.159294  0.751012 -0.182052     0 -1.259728  0.059574   \n",
       "...        ...       ...       ...       ...   ...       ...       ...   \n",
       "6615  0.106613  0.044682  1.776000 -0.288000     0  2.888000  0.672000   \n",
       "6616  1.450189  1.128954 -0.465596  0.454124     0 -1.204408 -0.405118   \n",
       "6617 -0.370035 -0.075999 -0.051984  0.050770     0  1.743444  1.159725   \n",
       "6618  0.313635  0.084571 -0.567168 -0.163008     0  1.959168  1.396416   \n",
       "6619  0.349004  0.477046 -0.340996 -1.704303     0 -3.369651 -0.492463   \n",
       "\n",
       "          c_27  c_28  \n",
       "0    -0.007944  1.76  \n",
       "1     0.181064  1.85  \n",
       "2    -0.040277  2.05  \n",
       "3    -0.012101  1.82  \n",
       "4     0.042613  1.99  \n",
       "...        ...   ...  \n",
       "6615 -0.114780  2.09  \n",
       "6616 -0.002936  1.87  \n",
       "6617  0.019195  1.72  \n",
       "6618  0.071180  1.72  \n",
       "6619  0.042523  1.89  \n",
       "\n",
       "[6620 rows x 70 columns]"
      ]
     },
     "execution_count": 14,
     "metadata": {},
     "output_type": "execute_result"
    }
   ],
   "source": [
    "X.drop(constant_columns,axis=1)#Dropping constant columns "
   ]
  },
  {
   "cell_type": "markdown",
   "metadata": {},
   "source": [
    "<h1 style=\"background-color:Crimson;color:white;text-align:center;\">Getting Correlation Among Features & with Target</h1>"
   ]
  },
  {
   "cell_type": "code",
   "execution_count": 15,
   "metadata": {},
   "outputs": [
    {
     "data": {
      "text/html": [
       "<div>\n",
       "<style scoped>\n",
       "    .dataframe tbody tr th:only-of-type {\n",
       "        vertical-align: middle;\n",
       "    }\n",
       "\n",
       "    .dataframe tbody tr th {\n",
       "        vertical-align: top;\n",
       "    }\n",
       "\n",
       "    .dataframe thead th {\n",
       "        text-align: right;\n",
       "    }\n",
       "</style>\n",
       "<table border=\"1\" class=\"dataframe\">\n",
       "  <thead>\n",
       "    <tr style=\"text-align: right;\">\n",
       "      <th></th>\n",
       "      <th>level_0</th>\n",
       "      <th>level_1</th>\n",
       "      <th>Correlation</th>\n",
       "    </tr>\n",
       "  </thead>\n",
       "  <tbody>\n",
       "    <tr>\n",
       "      <th>0</th>\n",
       "      <td>g1_13</td>\n",
       "      <td>g1_14</td>\n",
       "      <td>0.976476</td>\n",
       "    </tr>\n",
       "    <tr>\n",
       "      <th>1</th>\n",
       "      <td>g1_14</td>\n",
       "      <td>g1_13</td>\n",
       "      <td>0.976476</td>\n",
       "    </tr>\n",
       "    <tr>\n",
       "      <th>2</th>\n",
       "      <td>g2_14</td>\n",
       "      <td>g2_13</td>\n",
       "      <td>0.975890</td>\n",
       "    </tr>\n",
       "    <tr>\n",
       "      <th>3</th>\n",
       "      <td>g2_13</td>\n",
       "      <td>g2_14</td>\n",
       "      <td>0.975890</td>\n",
       "    </tr>\n",
       "    <tr>\n",
       "      <th>4</th>\n",
       "      <td>c_20</td>\n",
       "      <td>c_21</td>\n",
       "      <td>0.973881</td>\n",
       "    </tr>\n",
       "    <tr>\n",
       "      <th>...</th>\n",
       "      <td>...</td>\n",
       "      <td>...</td>\n",
       "      <td>...</td>\n",
       "    </tr>\n",
       "    <tr>\n",
       "      <th>121</th>\n",
       "      <td>g1_5</td>\n",
       "      <td>g1_12</td>\n",
       "      <td>0.802206</td>\n",
       "    </tr>\n",
       "    <tr>\n",
       "      <th>122</th>\n",
       "      <td>g1_6</td>\n",
       "      <td>g1_3</td>\n",
       "      <td>0.801764</td>\n",
       "    </tr>\n",
       "    <tr>\n",
       "      <th>123</th>\n",
       "      <td>g1_3</td>\n",
       "      <td>g1_6</td>\n",
       "      <td>0.801764</td>\n",
       "    </tr>\n",
       "    <tr>\n",
       "      <th>124</th>\n",
       "      <td>g1_15</td>\n",
       "      <td>g1_16</td>\n",
       "      <td>0.800705</td>\n",
       "    </tr>\n",
       "    <tr>\n",
       "      <th>125</th>\n",
       "      <td>g1_16</td>\n",
       "      <td>g1_15</td>\n",
       "      <td>0.800705</td>\n",
       "    </tr>\n",
       "  </tbody>\n",
       "</table>\n",
       "<p>126 rows × 3 columns</p>\n",
       "</div>"
      ],
      "text/plain": [
       "    level_0 level_1  Correlation\n",
       "0     g1_13   g1_14     0.976476\n",
       "1     g1_14   g1_13     0.976476\n",
       "2     g2_14   g2_13     0.975890\n",
       "3     g2_13   g2_14     0.975890\n",
       "4      c_20    c_21     0.973881\n",
       "..      ...     ...          ...\n",
       "121    g1_5   g1_12     0.802206\n",
       "122    g1_6    g1_3     0.801764\n",
       "123    g1_3    g1_6     0.801764\n",
       "124   g1_15   g1_16     0.800705\n",
       "125   g1_16   g1_15     0.800705\n",
       "\n",
       "[126 rows x 3 columns]"
      ]
     },
     "metadata": {},
     "output_type": "display_data"
    }
   ],
   "source": [
    "#Feature Correlation\n",
    "cor_target =df.corr().abs()\n",
    "Target_Corr = cor_target.corr()['target'].to_frame().reset_index() #Feature Correlation related to SalePrice\n",
    "Feature_corr =cor_target.unstack().to_frame(name='Correlation') # Feature Relation\n",
    "Feature = Feature_corr[(Feature_corr['Correlation']>=0.80)&(Feature_corr['Correlation']<1)].sort_values(by='Correlation', ascending = False).reset_index()\n",
    "display(Feature)"
   ]
  },
  {
   "cell_type": "markdown",
   "metadata": {},
   "source": [
    "<div class=\"alert alert-info\" role=\"alert\">\n",
    "Dropping Columns based on Correlation</div>"
   ]
  },
  {
   "cell_type": "code",
   "execution_count": 16,
   "metadata": {},
   "outputs": [],
   "source": [
    "cor_target =df.corr()\n",
    "# Select upper triangle of correlation matrix\n",
    "upper = cor_target.where(np.triu(np.ones(cor_target.shape), k=1).astype(np.bool))\n",
    "# Find index of feature columns with correlation greater than 0.82\n",
    "to_drop = [column for column in upper.columns if any(upper[column] > 0.82)]\n",
    "df=df.drop(df[to_drop], axis=1)"
   ]
  },
  {
   "cell_type": "code",
   "execution_count": 17,
   "metadata": {},
   "outputs": [
    {
     "data": {
      "text/plain": [
       "g1_1      0.232350\n",
       "c_2       0.219371\n",
       "target    1.000000\n",
       "Name: target, dtype: float64"
      ]
     },
     "metadata": {},
     "output_type": "display_data"
    }
   ],
   "source": [
    "my_corr=df.corr() # Correlation of newly created dataframe \n",
    "cor_target = abs(my_corr[\"target\"]) # Correlation with respect to target column \n",
    "#Selecting highly correlated features\n",
    "relevant_features = cor_target[cor_target>0.2] # Columns whose correlation is greater than 0.5\n",
    "display(relevant_features) # getting the correlation values with Correlation greater than 0.5"
   ]
  },
  {
   "cell_type": "markdown",
   "metadata": {},
   "source": [
    "<h1 style=\"background-color:Crimson;color:white;text-align:center;\">Checking VIF</h1>"
   ]
  },
  {
   "cell_type": "markdown",
   "metadata": {},
   "source": [
    "Variance inflation factor (VIF) is a measure of the amount of multicollinearity in a set of multiple regression variables. Mathematically, the VIF for a regression model variable is equal to the ratio of the overall model variance to the variance of a model that includes only that single independent variable. This ratio is calculated for each independent variable. A high VIF indicates that the associated independent variable is highly collinear with the other variables in the model.\n",
    "\n",
    "1. A variance inflation factor (VIF) provides a measure of multicollinearity among the independent variables in a multiple regression model.\n",
    "2. Detecting multicollinearity is important because while multicollinearity does not reduce the explanatory power of the model, it does reduce the statistical significance of the independent variables. \n",
    "3. A large variance inflation factor (VIF) on an independent variable indicates a highly collinear relationship to the other variables that should be considered or adjusted for in the structure of the model and selection of independent variables."
   ]
  },
  {
   "cell_type": "code",
   "execution_count": 18,
   "metadata": {},
   "outputs": [],
   "source": [
    "X=df.drop(['target'],axis=1)\n",
    "Y=df['target']"
   ]
  },
  {
   "cell_type": "code",
   "execution_count": 19,
   "metadata": {},
   "outputs": [],
   "source": [
    "from statsmodels.tools.tools import add_constant\n",
    "from statsmodels.stats.outliers_influence import variance_inflation_factor\n",
    "X_vif = add_constant(X)\n",
    "vif = pd.Series([variance_inflation_factor(X_vif.values, i) \n",
    "               for i in range(X_vif.shape[1])], \n",
    "              index=X_vif.columns)"
   ]
  },
  {
   "cell_type": "code",
   "execution_count": 20,
   "metadata": {},
   "outputs": [
    {
     "data": {
      "text/plain": [
       "c_13     1.063467e+07\n",
       "g2_11    3.335492e+06\n",
       "c_27     2.323426e+06\n",
       "c_22     1.773375e+06\n",
       "g2_3     8.591430e+05\n",
       "g1_10    7.954390e+05\n",
       "g1_2     6.129726e+05\n",
       "g2_2     5.942926e+05\n",
       "c_15     4.828239e+05\n",
       "c_16     1.827725e+05\n",
       "dtype: float64"
      ]
     },
     "metadata": {},
     "output_type": "display_data"
    }
   ],
   "source": [
    "display(vif.sort_values(ascending = False).head(10))"
   ]
  },
  {
   "cell_type": "code",
   "execution_count": 21,
   "metadata": {},
   "outputs": [
    {
     "data": {
      "text/plain": [
       "(6620, 49)"
      ]
     },
     "execution_count": 21,
     "metadata": {},
     "output_type": "execute_result"
    }
   ],
   "source": [
    "df.shape"
   ]
  },
  {
   "cell_type": "markdown",
   "metadata": {},
   "source": [
    "<h1 style=\"background-color:Crimson;color:white;text-align:center;\">Mutual Info Gain</h1>"
   ]
  },
  {
   "cell_type": "markdown",
   "metadata": {},
   "source": [
    "<div class=\"alert alert-success\" role=\"alert\">Mutual information (MI) is a measure of the amount of information between two random variables is symmetric and non-negative, and it could be equal to zero if and only if two random variables are independent, and higher values mean higher dependency. Mutual information measures the dependency between the variables.<div>"
   ]
  },
  {
   "cell_type": "code",
   "execution_count": 22,
   "metadata": {},
   "outputs": [
    {
     "data": {
      "text/plain": [
       "array([0.10166519, 0.01756634, 0.01595976, 0.0381315 , 0.        ,\n",
       "       0.03020247, 0.03211762, 0.01127461, 0.01542218, 0.02305982,\n",
       "       0.00770155, 0.01178585, 0.02191085, 0.02291099, 0.09758014,\n",
       "       0.        , 0.02456986, 0.0315737 , 0.01180852, 0.03110829,\n",
       "       0.03196288, 0.00355382, 0.02784677, 0.02054425, 0.01897361,\n",
       "       0.029857  , 0.        , 0.01316686, 0.11814954, 0.03844319,\n",
       "       0.01528767, 0.01479437, 0.03306926, 0.01440292, 0.02894735,\n",
       "       0.        , 0.05035319, 0.04660839, 0.        , 0.        ,\n",
       "       0.01303215, 0.00108794, 0.        , 0.        , 0.01216019,\n",
       "       0.04923615, 0.00293671, 0.01747321])"
      ]
     },
     "execution_count": 22,
     "metadata": {},
     "output_type": "execute_result"
    }
   ],
   "source": [
    "from sklearn.feature_selection import mutual_info_classif\n",
    "mutual_info = mutual_info_classif(X,Y)\n",
    "mutual_info"
   ]
  },
  {
   "cell_type": "code",
   "execution_count": 23,
   "metadata": {},
   "outputs": [
    {
     "data": {
      "text/plain": [
       "c_2      0.118150\n",
       "g1_1     0.101665\n",
       "g2_1     0.097580\n",
       "c_10     0.050353\n",
       "c_25     0.049236\n",
       "c_11     0.046608\n",
       "c_3      0.038443\n",
       "g1_5     0.038131\n",
       "c_6      0.033069\n",
       "g1_11    0.032118\n",
       "g2_11    0.031963\n",
       "g2_5     0.031574\n",
       "g2_10    0.031108\n",
       "g1_10    0.030202\n",
       "g2_19    0.029857\n",
       "c_8      0.028947\n",
       "g2_16    0.027847\n",
       "g2_3     0.024570\n",
       "g1_17    0.023060\n",
       "g1_21    0.022911\n",
       "g1_20    0.021911\n",
       "g2_17    0.020544\n",
       "g2_18    0.018974\n",
       "g1_2     0.017566\n",
       "c_28     0.017473\n",
       "g1_3     0.015960\n",
       "g1_16    0.015422\n",
       "c_4      0.015288\n",
       "c_5      0.014794\n",
       "c_7      0.014403\n",
       "c_1      0.013167\n",
       "c_15     0.013032\n",
       "c_24     0.012160\n",
       "g2_7     0.011809\n",
       "g1_19    0.011786\n",
       "g1_15    0.011275\n",
       "g1_18    0.007702\n",
       "g2_15    0.003554\n",
       "c_27     0.002937\n",
       "c_16     0.001088\n",
       "c_13     0.000000\n",
       "c_14     0.000000\n",
       "g1_7     0.000000\n",
       "c_22     0.000000\n",
       "c_23     0.000000\n",
       "g2_2     0.000000\n",
       "g2_20    0.000000\n",
       "c_9      0.000000\n",
       "dtype: float64"
      ]
     },
     "execution_count": 23,
     "metadata": {},
     "output_type": "execute_result"
    }
   ],
   "source": [
    "mutual_info = pd.Series(mutual_info)\n",
    "mutual_info.index = X.columns\n",
    "mutual_info.sort_values(ascending=False)"
   ]
  },
  {
   "cell_type": "markdown",
   "metadata": {},
   "source": [
    "<div class=\"alert alert-info\" role=\"alert\">\n",
    "Selecting K-Best Features based on Target</div>"
   ]
  },
  {
   "cell_type": "code",
   "execution_count": 24,
   "metadata": {},
   "outputs": [
    {
     "data": {
      "text/plain": [
       "Index(['g1_1', 'g1_5', 'g1_10', 'g2_1', 'g2_19', 'c_2', 'c_3', 'c_10', 'c_11',\n",
       "       'c_25'],\n",
       "      dtype='object')"
      ]
     },
     "execution_count": 24,
     "metadata": {},
     "output_type": "execute_result"
    }
   ],
   "source": [
    "# Selecting Top 10 Columns using kbest\n",
    "from sklearn.feature_selection import SelectKBest\n",
    "sel_cols = SelectKBest(mutual_info_classif, k=10)\n",
    "sel_cols.fit(X,Y)\n",
    "X.columns[sel_cols.get_support()]"
   ]
  },
  {
   "cell_type": "markdown",
   "metadata": {},
   "source": [
    "<h1 style=\"background-color:Crimson;color:white;text-align:center;\">Model</h1>"
   ]
  },
  {
   "cell_type": "code",
   "execution_count": 25,
   "metadata": {},
   "outputs": [],
   "source": [
    "X=df[['g1_1','g1_10', 'g1_5', 'g2_1', 'g2_19', 'c_2', 'c_3', 'c_10','c_11','c_25']]\n",
    "Y=df[\"target\"]"
   ]
  },
  {
   "cell_type": "code",
   "execution_count": 26,
   "metadata": {},
   "outputs": [
    {
     "data": {
      "text/plain": [
       "(6620, 10)"
      ]
     },
     "metadata": {},
     "output_type": "display_data"
    },
    {
     "data": {
      "text/plain": [
       "(6620,)"
      ]
     },
     "metadata": {},
     "output_type": "display_data"
    }
   ],
   "source": [
    "display(X.shape)\n",
    "display(Y.shape)"
   ]
  },
  {
   "cell_type": "code",
   "execution_count": 27,
   "metadata": {},
   "outputs": [
    {
     "data": {
      "text/html": [
       "<div>\n",
       "<style scoped>\n",
       "    .dataframe tbody tr th:only-of-type {\n",
       "        vertical-align: middle;\n",
       "    }\n",
       "\n",
       "    .dataframe tbody tr th {\n",
       "        vertical-align: top;\n",
       "    }\n",
       "\n",
       "    .dataframe thead th {\n",
       "        text-align: right;\n",
       "    }\n",
       "</style>\n",
       "<table border=\"1\" class=\"dataframe\">\n",
       "  <thead>\n",
       "    <tr style=\"text-align: right;\">\n",
       "      <th></th>\n",
       "      <th>g1_1</th>\n",
       "      <th>g1_10</th>\n",
       "      <th>g1_5</th>\n",
       "      <th>g2_1</th>\n",
       "      <th>g2_19</th>\n",
       "      <th>c_2</th>\n",
       "      <th>c_3</th>\n",
       "      <th>c_10</th>\n",
       "      <th>c_11</th>\n",
       "      <th>c_25</th>\n",
       "    </tr>\n",
       "  </thead>\n",
       "  <tbody>\n",
       "    <tr>\n",
       "      <th>count</th>\n",
       "      <td>6620.000000</td>\n",
       "      <td>6620.000000</td>\n",
       "      <td>6620.000000</td>\n",
       "      <td>6620.000000</td>\n",
       "      <td>6620.000000</td>\n",
       "      <td>6620.000000</td>\n",
       "      <td>6620.000000</td>\n",
       "      <td>6620.000000</td>\n",
       "      <td>6620.000000</td>\n",
       "      <td>6620.000000</td>\n",
       "    </tr>\n",
       "    <tr>\n",
       "      <th>mean</th>\n",
       "      <td>2.708779</td>\n",
       "      <td>3.251057</td>\n",
       "      <td>10.988066</td>\n",
       "      <td>4.809875</td>\n",
       "      <td>0.058207</td>\n",
       "      <td>1.563595</td>\n",
       "      <td>1.558761</td>\n",
       "      <td>4.405438</td>\n",
       "      <td>-4.628248</td>\n",
       "      <td>-0.228426</td>\n",
       "    </tr>\n",
       "    <tr>\n",
       "      <th>std</th>\n",
       "      <td>1.857725</td>\n",
       "      <td>8.481210</td>\n",
       "      <td>5.635985</td>\n",
       "      <td>3.937164</td>\n",
       "      <td>0.151470</td>\n",
       "      <td>4.063520</td>\n",
       "      <td>4.057417</td>\n",
       "      <td>8.497254</td>\n",
       "      <td>9.093944</td>\n",
       "      <td>3.390902</td>\n",
       "    </tr>\n",
       "    <tr>\n",
       "      <th>min</th>\n",
       "      <td>1.050000</td>\n",
       "      <td>-27.000000</td>\n",
       "      <td>1.000000</td>\n",
       "      <td>0.950000</td>\n",
       "      <td>0.000000</td>\n",
       "      <td>-10.000000</td>\n",
       "      <td>-10.000000</td>\n",
       "      <td>-28.000000</td>\n",
       "      <td>-47.000000</td>\n",
       "      <td>-15.202740</td>\n",
       "    </tr>\n",
       "    <tr>\n",
       "      <th>25%</th>\n",
       "      <td>1.667000</td>\n",
       "      <td>-2.000000</td>\n",
       "      <td>6.000000</td>\n",
       "      <td>2.500000</td>\n",
       "      <td>0.001827</td>\n",
       "      <td>-1.000000</td>\n",
       "      <td>-1.000000</td>\n",
       "      <td>0.000000</td>\n",
       "      <td>-9.000000</td>\n",
       "      <td>-2.222226</td>\n",
       "    </tr>\n",
       "    <tr>\n",
       "      <th>50%</th>\n",
       "      <td>2.150000</td>\n",
       "      <td>1.000000</td>\n",
       "      <td>11.000000</td>\n",
       "      <td>3.500000</td>\n",
       "      <td>0.006314</td>\n",
       "      <td>1.000000</td>\n",
       "      <td>1.000000</td>\n",
       "      <td>3.000000</td>\n",
       "      <td>-3.000000</td>\n",
       "      <td>-0.119378</td>\n",
       "    </tr>\n",
       "    <tr>\n",
       "      <th>75%</th>\n",
       "      <td>2.800000</td>\n",
       "      <td>7.000000</td>\n",
       "      <td>16.000000</td>\n",
       "      <td>5.500000</td>\n",
       "      <td>0.028546</td>\n",
       "      <td>4.000000</td>\n",
       "      <td>4.000000</td>\n",
       "      <td>9.000000</td>\n",
       "      <td>1.000000</td>\n",
       "      <td>1.809334</td>\n",
       "    </tr>\n",
       "    <tr>\n",
       "      <th>max</th>\n",
       "      <td>23.000000</td>\n",
       "      <td>48.000000</td>\n",
       "      <td>20.000000</td>\n",
       "      <td>41.000000</td>\n",
       "      <td>1.000000</td>\n",
       "      <td>13.000000</td>\n",
       "      <td>13.000000</td>\n",
       "      <td>41.000000</td>\n",
       "      <td>33.000000</td>\n",
       "      <td>12.562698</td>\n",
       "    </tr>\n",
       "  </tbody>\n",
       "</table>\n",
       "</div>"
      ],
      "text/plain": [
       "              g1_1        g1_10         g1_5         g2_1        g2_19  \\\n",
       "count  6620.000000  6620.000000  6620.000000  6620.000000  6620.000000   \n",
       "mean      2.708779     3.251057    10.988066     4.809875     0.058207   \n",
       "std       1.857725     8.481210     5.635985     3.937164     0.151470   \n",
       "min       1.050000   -27.000000     1.000000     0.950000     0.000000   \n",
       "25%       1.667000    -2.000000     6.000000     2.500000     0.001827   \n",
       "50%       2.150000     1.000000    11.000000     3.500000     0.006314   \n",
       "75%       2.800000     7.000000    16.000000     5.500000     0.028546   \n",
       "max      23.000000    48.000000    20.000000    41.000000     1.000000   \n",
       "\n",
       "               c_2          c_3         c_10         c_11         c_25  \n",
       "count  6620.000000  6620.000000  6620.000000  6620.000000  6620.000000  \n",
       "mean      1.563595     1.558761     4.405438    -4.628248    -0.228426  \n",
       "std       4.063520     4.057417     8.497254     9.093944     3.390902  \n",
       "min     -10.000000   -10.000000   -28.000000   -47.000000   -15.202740  \n",
       "25%      -1.000000    -1.000000     0.000000    -9.000000    -2.222226  \n",
       "50%       1.000000     1.000000     3.000000    -3.000000    -0.119378  \n",
       "75%       4.000000     4.000000     9.000000     1.000000     1.809334  \n",
       "max      13.000000    13.000000    41.000000    33.000000    12.562698  "
      ]
     },
     "execution_count": 27,
     "metadata": {},
     "output_type": "execute_result"
    }
   ],
   "source": [
    "X.describe()"
   ]
  },
  {
   "cell_type": "markdown",
   "metadata": {},
   "source": [
    "<h1 style=\"background-color:lightgreen;color:white;text-align:center;\">Train-Test Split</h1>"
   ]
  },
  {
   "cell_type": "code",
   "execution_count": 28,
   "metadata": {},
   "outputs": [],
   "source": [
    "from sklearn.model_selection import train_test_split\n",
    "X_train, X_test, y_train, y_test = train_test_split(X, Y, test_size=0.2, random_state=42)"
   ]
  },
  {
   "cell_type": "markdown",
   "metadata": {},
   "source": [
    "<h1 style=\"background-color:lightgreen;color:white;text-align:center;\">Min-Max Scaling</h1>"
   ]
  },
  {
   "cell_type": "code",
   "execution_count": 29,
   "metadata": {},
   "outputs": [],
   "source": [
    "from sklearn.preprocessing import MinMaxScaler\n",
    "mms = MinMaxScaler(feature_range=(0,1))\n",
    "X_train = mms.fit_transform(X_train)\n",
    "X_test = mms.fit_transform(X_test)"
   ]
  },
  {
   "cell_type": "markdown",
   "metadata": {},
   "source": [
    "<h1 style=\"background-color:lightgreen;color:white;text-align:center;\">Implementing PYCARET (An AutoML Approach)</h1>"
   ]
  },
  {
   "cell_type": "code",
   "execution_count": 32,
   "metadata": {},
   "outputs": [],
   "source": [
    "#!pip install pycaret"
   ]
  },
  {
   "cell_type": "code",
   "execution_count": 33,
   "metadata": {},
   "outputs": [
    {
     "data": {
      "text/html": [
       "<style type='text/css'>\n",
       ".datatable table.frame { margin-bottom: 0; }\n",
       ".datatable table.frame thead { border-bottom: none; }\n",
       ".datatable table.frame tr.coltypes td {  color: #FFFFFF;  line-height: 6px;  padding: 0 0.5em;}\n",
       ".datatable .bool    { background: #DDDD99; }\n",
       ".datatable .object  { background: #565656; }\n",
       ".datatable .int     { background: #5D9E5D; }\n",
       ".datatable .float   { background: #4040CC; }\n",
       ".datatable .str     { background: #CC4040; }\n",
       ".datatable .row_index {  background: var(--jp-border-color3);  border-right: 1px solid var(--jp-border-color0);  color: var(--jp-ui-font-color3);  font-size: 9px;}\n",
       ".datatable .frame tr.coltypes .row_index {  background: var(--jp-border-color0);}\n",
       ".datatable th:nth-child(2) { padding-left: 12px; }\n",
       ".datatable .hellipsis {  color: var(--jp-cell-editor-border-color);}\n",
       ".datatable .vellipsis {  background: var(--jp-layout-color0);  color: var(--jp-cell-editor-border-color);}\n",
       ".datatable .na {  color: var(--jp-cell-editor-border-color);  font-size: 80%;}\n",
       ".datatable .footer { font-size: 9px; }\n",
       ".datatable .frame_dimensions {  background: var(--jp-border-color3);  border-top: 1px solid var(--jp-border-color0);  color: var(--jp-ui-font-color3);  display: inline-block;  opacity: 0.6;  padding: 1px 10px 1px 5px;}\n",
       "</style>\n"
      ],
      "text/plain": [
       "<IPython.core.display.HTML object>"
      ]
     },
     "metadata": {},
     "output_type": "display_data"
    }
   ],
   "source": [
    "# Importing PyCaret Module based on type of Problem\n",
    "from pycaret import classification\n",
    "from pycaret.classification import * "
   ]
  },
  {
   "cell_type": "code",
   "execution_count": 34,
   "metadata": {},
   "outputs": [
    {
     "data": {
      "text/html": [
       "<style  type=\"text/css\" >\n",
       "</style><table id=\"T_c03f2_\" ><thead>    <tr>        <th class=\"blank level0\" ></th>        <th class=\"col_heading level0 col0\" >Description</th>        <th class=\"col_heading level0 col1\" >Value</th>    </tr></thead><tbody>\n",
       "                <tr>\n",
       "                        <th id=\"T_c03f2_level0_row0\" class=\"row_heading level0 row0\" >0</th>\n",
       "                        <td id=\"T_c03f2_row0_col0\" class=\"data row0 col0\" >session_id</td>\n",
       "                        <td id=\"T_c03f2_row0_col1\" class=\"data row0 col1\" >8146</td>\n",
       "            </tr>\n",
       "            <tr>\n",
       "                        <th id=\"T_c03f2_level0_row1\" class=\"row_heading level0 row1\" >1</th>\n",
       "                        <td id=\"T_c03f2_row1_col0\" class=\"data row1 col0\" >Target</td>\n",
       "                        <td id=\"T_c03f2_row1_col1\" class=\"data row1 col1\" >target</td>\n",
       "            </tr>\n",
       "            <tr>\n",
       "                        <th id=\"T_c03f2_level0_row2\" class=\"row_heading level0 row2\" >2</th>\n",
       "                        <td id=\"T_c03f2_row2_col0\" class=\"data row2 col0\" >Target Type</td>\n",
       "                        <td id=\"T_c03f2_row2_col1\" class=\"data row2 col1\" >Multiclass</td>\n",
       "            </tr>\n",
       "            <tr>\n",
       "                        <th id=\"T_c03f2_level0_row3\" class=\"row_heading level0 row3\" >3</th>\n",
       "                        <td id=\"T_c03f2_row3_col0\" class=\"data row3 col0\" >Label Encoded</td>\n",
       "                        <td id=\"T_c03f2_row3_col1\" class=\"data row3 col1\" >0: 0, 1: 1, 2: 2</td>\n",
       "            </tr>\n",
       "            <tr>\n",
       "                        <th id=\"T_c03f2_level0_row4\" class=\"row_heading level0 row4\" >4</th>\n",
       "                        <td id=\"T_c03f2_row4_col0\" class=\"data row4 col0\" >Original Data</td>\n",
       "                        <td id=\"T_c03f2_row4_col1\" class=\"data row4 col1\" >(6620, 49)</td>\n",
       "            </tr>\n",
       "            <tr>\n",
       "                        <th id=\"T_c03f2_level0_row5\" class=\"row_heading level0 row5\" >5</th>\n",
       "                        <td id=\"T_c03f2_row5_col0\" class=\"data row5 col0\" >Missing Values</td>\n",
       "                        <td id=\"T_c03f2_row5_col1\" class=\"data row5 col1\" >False</td>\n",
       "            </tr>\n",
       "            <tr>\n",
       "                        <th id=\"T_c03f2_level0_row6\" class=\"row_heading level0 row6\" >6</th>\n",
       "                        <td id=\"T_c03f2_row6_col0\" class=\"data row6 col0\" >Numeric Features</td>\n",
       "                        <td id=\"T_c03f2_row6_col1\" class=\"data row6 col1\" >10</td>\n",
       "            </tr>\n",
       "            <tr>\n",
       "                        <th id=\"T_c03f2_level0_row7\" class=\"row_heading level0 row7\" >7</th>\n",
       "                        <td id=\"T_c03f2_row7_col0\" class=\"data row7 col0\" >Categorical Features</td>\n",
       "                        <td id=\"T_c03f2_row7_col1\" class=\"data row7 col1\" >0</td>\n",
       "            </tr>\n",
       "            <tr>\n",
       "                        <th id=\"T_c03f2_level0_row8\" class=\"row_heading level0 row8\" >8</th>\n",
       "                        <td id=\"T_c03f2_row8_col0\" class=\"data row8 col0\" >Ordinal Features</td>\n",
       "                        <td id=\"T_c03f2_row8_col1\" class=\"data row8 col1\" >False</td>\n",
       "            </tr>\n",
       "            <tr>\n",
       "                        <th id=\"T_c03f2_level0_row9\" class=\"row_heading level0 row9\" >9</th>\n",
       "                        <td id=\"T_c03f2_row9_col0\" class=\"data row9 col0\" >High Cardinality Features</td>\n",
       "                        <td id=\"T_c03f2_row9_col1\" class=\"data row9 col1\" >False</td>\n",
       "            </tr>\n",
       "            <tr>\n",
       "                        <th id=\"T_c03f2_level0_row10\" class=\"row_heading level0 row10\" >10</th>\n",
       "                        <td id=\"T_c03f2_row10_col0\" class=\"data row10 col0\" >High Cardinality Method</td>\n",
       "                        <td id=\"T_c03f2_row10_col1\" class=\"data row10 col1\" >None</td>\n",
       "            </tr>\n",
       "            <tr>\n",
       "                        <th id=\"T_c03f2_level0_row11\" class=\"row_heading level0 row11\" >11</th>\n",
       "                        <td id=\"T_c03f2_row11_col0\" class=\"data row11 col0\" >Transformed Train Set</td>\n",
       "                        <td id=\"T_c03f2_row11_col1\" class=\"data row11 col1\" >(4633, 10)</td>\n",
       "            </tr>\n",
       "            <tr>\n",
       "                        <th id=\"T_c03f2_level0_row12\" class=\"row_heading level0 row12\" >12</th>\n",
       "                        <td id=\"T_c03f2_row12_col0\" class=\"data row12 col0\" >Transformed Test Set</td>\n",
       "                        <td id=\"T_c03f2_row12_col1\" class=\"data row12 col1\" >(1987, 10)</td>\n",
       "            </tr>\n",
       "            <tr>\n",
       "                        <th id=\"T_c03f2_level0_row13\" class=\"row_heading level0 row13\" >13</th>\n",
       "                        <td id=\"T_c03f2_row13_col0\" class=\"data row13 col0\" >Shuffle Train-Test</td>\n",
       "                        <td id=\"T_c03f2_row13_col1\" class=\"data row13 col1\" >True</td>\n",
       "            </tr>\n",
       "            <tr>\n",
       "                        <th id=\"T_c03f2_level0_row14\" class=\"row_heading level0 row14\" >14</th>\n",
       "                        <td id=\"T_c03f2_row14_col0\" class=\"data row14 col0\" >Stratify Train-Test</td>\n",
       "                        <td id=\"T_c03f2_row14_col1\" class=\"data row14 col1\" >False</td>\n",
       "            </tr>\n",
       "            <tr>\n",
       "                        <th id=\"T_c03f2_level0_row15\" class=\"row_heading level0 row15\" >15</th>\n",
       "                        <td id=\"T_c03f2_row15_col0\" class=\"data row15 col0\" >Fold Generator</td>\n",
       "                        <td id=\"T_c03f2_row15_col1\" class=\"data row15 col1\" >StratifiedKFold</td>\n",
       "            </tr>\n",
       "            <tr>\n",
       "                        <th id=\"T_c03f2_level0_row16\" class=\"row_heading level0 row16\" >16</th>\n",
       "                        <td id=\"T_c03f2_row16_col0\" class=\"data row16 col0\" >Fold Number</td>\n",
       "                        <td id=\"T_c03f2_row16_col1\" class=\"data row16 col1\" >10</td>\n",
       "            </tr>\n",
       "            <tr>\n",
       "                        <th id=\"T_c03f2_level0_row17\" class=\"row_heading level0 row17\" >17</th>\n",
       "                        <td id=\"T_c03f2_row17_col0\" class=\"data row17 col0\" >CPU Jobs</td>\n",
       "                        <td id=\"T_c03f2_row17_col1\" class=\"data row17 col1\" >-1</td>\n",
       "            </tr>\n",
       "            <tr>\n",
       "                        <th id=\"T_c03f2_level0_row18\" class=\"row_heading level0 row18\" >18</th>\n",
       "                        <td id=\"T_c03f2_row18_col0\" class=\"data row18 col0\" >Use GPU</td>\n",
       "                        <td id=\"T_c03f2_row18_col1\" class=\"data row18 col1\" >False</td>\n",
       "            </tr>\n",
       "            <tr>\n",
       "                        <th id=\"T_c03f2_level0_row19\" class=\"row_heading level0 row19\" >19</th>\n",
       "                        <td id=\"T_c03f2_row19_col0\" class=\"data row19 col0\" >Log Experiment</td>\n",
       "                        <td id=\"T_c03f2_row19_col1\" class=\"data row19 col1\" >False</td>\n",
       "            </tr>\n",
       "            <tr>\n",
       "                        <th id=\"T_c03f2_level0_row20\" class=\"row_heading level0 row20\" >20</th>\n",
       "                        <td id=\"T_c03f2_row20_col0\" class=\"data row20 col0\" >Experiment Name</td>\n",
       "                        <td id=\"T_c03f2_row20_col1\" class=\"data row20 col1\" >clf-default-name</td>\n",
       "            </tr>\n",
       "            <tr>\n",
       "                        <th id=\"T_c03f2_level0_row21\" class=\"row_heading level0 row21\" >21</th>\n",
       "                        <td id=\"T_c03f2_row21_col0\" class=\"data row21 col0\" >USI</td>\n",
       "                        <td id=\"T_c03f2_row21_col1\" class=\"data row21 col1\" >bb2a</td>\n",
       "            </tr>\n",
       "            <tr>\n",
       "                        <th id=\"T_c03f2_level0_row22\" class=\"row_heading level0 row22\" >22</th>\n",
       "                        <td id=\"T_c03f2_row22_col0\" class=\"data row22 col0\" >Imputation Type</td>\n",
       "                        <td id=\"T_c03f2_row22_col1\" class=\"data row22 col1\" >simple</td>\n",
       "            </tr>\n",
       "            <tr>\n",
       "                        <th id=\"T_c03f2_level0_row23\" class=\"row_heading level0 row23\" >23</th>\n",
       "                        <td id=\"T_c03f2_row23_col0\" class=\"data row23 col0\" >Iterative Imputation Iteration</td>\n",
       "                        <td id=\"T_c03f2_row23_col1\" class=\"data row23 col1\" >None</td>\n",
       "            </tr>\n",
       "            <tr>\n",
       "                        <th id=\"T_c03f2_level0_row24\" class=\"row_heading level0 row24\" >24</th>\n",
       "                        <td id=\"T_c03f2_row24_col0\" class=\"data row24 col0\" >Numeric Imputer</td>\n",
       "                        <td id=\"T_c03f2_row24_col1\" class=\"data row24 col1\" >mean</td>\n",
       "            </tr>\n",
       "            <tr>\n",
       "                        <th id=\"T_c03f2_level0_row25\" class=\"row_heading level0 row25\" >25</th>\n",
       "                        <td id=\"T_c03f2_row25_col0\" class=\"data row25 col0\" >Iterative Imputation Numeric Model</td>\n",
       "                        <td id=\"T_c03f2_row25_col1\" class=\"data row25 col1\" >None</td>\n",
       "            </tr>\n",
       "            <tr>\n",
       "                        <th id=\"T_c03f2_level0_row26\" class=\"row_heading level0 row26\" >26</th>\n",
       "                        <td id=\"T_c03f2_row26_col0\" class=\"data row26 col0\" >Categorical Imputer</td>\n",
       "                        <td id=\"T_c03f2_row26_col1\" class=\"data row26 col1\" >constant</td>\n",
       "            </tr>\n",
       "            <tr>\n",
       "                        <th id=\"T_c03f2_level0_row27\" class=\"row_heading level0 row27\" >27</th>\n",
       "                        <td id=\"T_c03f2_row27_col0\" class=\"data row27 col0\" >Iterative Imputation Categorical Model</td>\n",
       "                        <td id=\"T_c03f2_row27_col1\" class=\"data row27 col1\" >None</td>\n",
       "            </tr>\n",
       "            <tr>\n",
       "                        <th id=\"T_c03f2_level0_row28\" class=\"row_heading level0 row28\" >28</th>\n",
       "                        <td id=\"T_c03f2_row28_col0\" class=\"data row28 col0\" >Unknown Categoricals Handling</td>\n",
       "                        <td id=\"T_c03f2_row28_col1\" class=\"data row28 col1\" >least_frequent</td>\n",
       "            </tr>\n",
       "            <tr>\n",
       "                        <th id=\"T_c03f2_level0_row29\" class=\"row_heading level0 row29\" >29</th>\n",
       "                        <td id=\"T_c03f2_row29_col0\" class=\"data row29 col0\" >Normalize</td>\n",
       "                        <td id=\"T_c03f2_row29_col1\" class=\"data row29 col1\" >False</td>\n",
       "            </tr>\n",
       "            <tr>\n",
       "                        <th id=\"T_c03f2_level0_row30\" class=\"row_heading level0 row30\" >30</th>\n",
       "                        <td id=\"T_c03f2_row30_col0\" class=\"data row30 col0\" >Normalize Method</td>\n",
       "                        <td id=\"T_c03f2_row30_col1\" class=\"data row30 col1\" >None</td>\n",
       "            </tr>\n",
       "            <tr>\n",
       "                        <th id=\"T_c03f2_level0_row31\" class=\"row_heading level0 row31\" >31</th>\n",
       "                        <td id=\"T_c03f2_row31_col0\" class=\"data row31 col0\" >Transformation</td>\n",
       "                        <td id=\"T_c03f2_row31_col1\" class=\"data row31 col1\" >False</td>\n",
       "            </tr>\n",
       "            <tr>\n",
       "                        <th id=\"T_c03f2_level0_row32\" class=\"row_heading level0 row32\" >32</th>\n",
       "                        <td id=\"T_c03f2_row32_col0\" class=\"data row32 col0\" >Transformation Method</td>\n",
       "                        <td id=\"T_c03f2_row32_col1\" class=\"data row32 col1\" >None</td>\n",
       "            </tr>\n",
       "            <tr>\n",
       "                        <th id=\"T_c03f2_level0_row33\" class=\"row_heading level0 row33\" >33</th>\n",
       "                        <td id=\"T_c03f2_row33_col0\" class=\"data row33 col0\" >PCA</td>\n",
       "                        <td id=\"T_c03f2_row33_col1\" class=\"data row33 col1\" >False</td>\n",
       "            </tr>\n",
       "            <tr>\n",
       "                        <th id=\"T_c03f2_level0_row34\" class=\"row_heading level0 row34\" >34</th>\n",
       "                        <td id=\"T_c03f2_row34_col0\" class=\"data row34 col0\" >PCA Method</td>\n",
       "                        <td id=\"T_c03f2_row34_col1\" class=\"data row34 col1\" >None</td>\n",
       "            </tr>\n",
       "            <tr>\n",
       "                        <th id=\"T_c03f2_level0_row35\" class=\"row_heading level0 row35\" >35</th>\n",
       "                        <td id=\"T_c03f2_row35_col0\" class=\"data row35 col0\" >PCA Components</td>\n",
       "                        <td id=\"T_c03f2_row35_col1\" class=\"data row35 col1\" >None</td>\n",
       "            </tr>\n",
       "            <tr>\n",
       "                        <th id=\"T_c03f2_level0_row36\" class=\"row_heading level0 row36\" >36</th>\n",
       "                        <td id=\"T_c03f2_row36_col0\" class=\"data row36 col0\" >Ignore Low Variance</td>\n",
       "                        <td id=\"T_c03f2_row36_col1\" class=\"data row36 col1\" >False</td>\n",
       "            </tr>\n",
       "            <tr>\n",
       "                        <th id=\"T_c03f2_level0_row37\" class=\"row_heading level0 row37\" >37</th>\n",
       "                        <td id=\"T_c03f2_row37_col0\" class=\"data row37 col0\" >Combine Rare Levels</td>\n",
       "                        <td id=\"T_c03f2_row37_col1\" class=\"data row37 col1\" >False</td>\n",
       "            </tr>\n",
       "            <tr>\n",
       "                        <th id=\"T_c03f2_level0_row38\" class=\"row_heading level0 row38\" >38</th>\n",
       "                        <td id=\"T_c03f2_row38_col0\" class=\"data row38 col0\" >Rare Level Threshold</td>\n",
       "                        <td id=\"T_c03f2_row38_col1\" class=\"data row38 col1\" >None</td>\n",
       "            </tr>\n",
       "            <tr>\n",
       "                        <th id=\"T_c03f2_level0_row39\" class=\"row_heading level0 row39\" >39</th>\n",
       "                        <td id=\"T_c03f2_row39_col0\" class=\"data row39 col0\" >Numeric Binning</td>\n",
       "                        <td id=\"T_c03f2_row39_col1\" class=\"data row39 col1\" >False</td>\n",
       "            </tr>\n",
       "            <tr>\n",
       "                        <th id=\"T_c03f2_level0_row40\" class=\"row_heading level0 row40\" >40</th>\n",
       "                        <td id=\"T_c03f2_row40_col0\" class=\"data row40 col0\" >Remove Outliers</td>\n",
       "                        <td id=\"T_c03f2_row40_col1\" class=\"data row40 col1\" >False</td>\n",
       "            </tr>\n",
       "            <tr>\n",
       "                        <th id=\"T_c03f2_level0_row41\" class=\"row_heading level0 row41\" >41</th>\n",
       "                        <td id=\"T_c03f2_row41_col0\" class=\"data row41 col0\" >Outliers Threshold</td>\n",
       "                        <td id=\"T_c03f2_row41_col1\" class=\"data row41 col1\" >None</td>\n",
       "            </tr>\n",
       "            <tr>\n",
       "                        <th id=\"T_c03f2_level0_row42\" class=\"row_heading level0 row42\" >42</th>\n",
       "                        <td id=\"T_c03f2_row42_col0\" class=\"data row42 col0\" >Remove Multicollinearity</td>\n",
       "                        <td id=\"T_c03f2_row42_col1\" class=\"data row42 col1\" >False</td>\n",
       "            </tr>\n",
       "            <tr>\n",
       "                        <th id=\"T_c03f2_level0_row43\" class=\"row_heading level0 row43\" >43</th>\n",
       "                        <td id=\"T_c03f2_row43_col0\" class=\"data row43 col0\" >Multicollinearity Threshold</td>\n",
       "                        <td id=\"T_c03f2_row43_col1\" class=\"data row43 col1\" >None</td>\n",
       "            </tr>\n",
       "            <tr>\n",
       "                        <th id=\"T_c03f2_level0_row44\" class=\"row_heading level0 row44\" >44</th>\n",
       "                        <td id=\"T_c03f2_row44_col0\" class=\"data row44 col0\" >Clustering</td>\n",
       "                        <td id=\"T_c03f2_row44_col1\" class=\"data row44 col1\" >False</td>\n",
       "            </tr>\n",
       "            <tr>\n",
       "                        <th id=\"T_c03f2_level0_row45\" class=\"row_heading level0 row45\" >45</th>\n",
       "                        <td id=\"T_c03f2_row45_col0\" class=\"data row45 col0\" >Clustering Iteration</td>\n",
       "                        <td id=\"T_c03f2_row45_col1\" class=\"data row45 col1\" >None</td>\n",
       "            </tr>\n",
       "            <tr>\n",
       "                        <th id=\"T_c03f2_level0_row46\" class=\"row_heading level0 row46\" >46</th>\n",
       "                        <td id=\"T_c03f2_row46_col0\" class=\"data row46 col0\" >Polynomial Features</td>\n",
       "                        <td id=\"T_c03f2_row46_col1\" class=\"data row46 col1\" >False</td>\n",
       "            </tr>\n",
       "            <tr>\n",
       "                        <th id=\"T_c03f2_level0_row47\" class=\"row_heading level0 row47\" >47</th>\n",
       "                        <td id=\"T_c03f2_row47_col0\" class=\"data row47 col0\" >Polynomial Degree</td>\n",
       "                        <td id=\"T_c03f2_row47_col1\" class=\"data row47 col1\" >None</td>\n",
       "            </tr>\n",
       "            <tr>\n",
       "                        <th id=\"T_c03f2_level0_row48\" class=\"row_heading level0 row48\" >48</th>\n",
       "                        <td id=\"T_c03f2_row48_col0\" class=\"data row48 col0\" >Trignometry Features</td>\n",
       "                        <td id=\"T_c03f2_row48_col1\" class=\"data row48 col1\" >False</td>\n",
       "            </tr>\n",
       "            <tr>\n",
       "                        <th id=\"T_c03f2_level0_row49\" class=\"row_heading level0 row49\" >49</th>\n",
       "                        <td id=\"T_c03f2_row49_col0\" class=\"data row49 col0\" >Polynomial Threshold</td>\n",
       "                        <td id=\"T_c03f2_row49_col1\" class=\"data row49 col1\" >None</td>\n",
       "            </tr>\n",
       "            <tr>\n",
       "                        <th id=\"T_c03f2_level0_row50\" class=\"row_heading level0 row50\" >50</th>\n",
       "                        <td id=\"T_c03f2_row50_col0\" class=\"data row50 col0\" >Group Features</td>\n",
       "                        <td id=\"T_c03f2_row50_col1\" class=\"data row50 col1\" >False</td>\n",
       "            </tr>\n",
       "            <tr>\n",
       "                        <th id=\"T_c03f2_level0_row51\" class=\"row_heading level0 row51\" >51</th>\n",
       "                        <td id=\"T_c03f2_row51_col0\" class=\"data row51 col0\" >Feature Selection</td>\n",
       "                        <td id=\"T_c03f2_row51_col1\" class=\"data row51 col1\" >False</td>\n",
       "            </tr>\n",
       "            <tr>\n",
       "                        <th id=\"T_c03f2_level0_row52\" class=\"row_heading level0 row52\" >52</th>\n",
       "                        <td id=\"T_c03f2_row52_col0\" class=\"data row52 col0\" >Features Selection Threshold</td>\n",
       "                        <td id=\"T_c03f2_row52_col1\" class=\"data row52 col1\" >None</td>\n",
       "            </tr>\n",
       "            <tr>\n",
       "                        <th id=\"T_c03f2_level0_row53\" class=\"row_heading level0 row53\" >53</th>\n",
       "                        <td id=\"T_c03f2_row53_col0\" class=\"data row53 col0\" >Feature Interaction</td>\n",
       "                        <td id=\"T_c03f2_row53_col1\" class=\"data row53 col1\" >False</td>\n",
       "            </tr>\n",
       "            <tr>\n",
       "                        <th id=\"T_c03f2_level0_row54\" class=\"row_heading level0 row54\" >54</th>\n",
       "                        <td id=\"T_c03f2_row54_col0\" class=\"data row54 col0\" >Feature Ratio</td>\n",
       "                        <td id=\"T_c03f2_row54_col1\" class=\"data row54 col1\" >False</td>\n",
       "            </tr>\n",
       "            <tr>\n",
       "                        <th id=\"T_c03f2_level0_row55\" class=\"row_heading level0 row55\" >55</th>\n",
       "                        <td id=\"T_c03f2_row55_col0\" class=\"data row55 col0\" >Interaction Threshold</td>\n",
       "                        <td id=\"T_c03f2_row55_col1\" class=\"data row55 col1\" >None</td>\n",
       "            </tr>\n",
       "            <tr>\n",
       "                        <th id=\"T_c03f2_level0_row56\" class=\"row_heading level0 row56\" >56</th>\n",
       "                        <td id=\"T_c03f2_row56_col0\" class=\"data row56 col0\" >Fix Imbalance</td>\n",
       "                        <td id=\"T_c03f2_row56_col1\" class=\"data row56 col1\" >False</td>\n",
       "            </tr>\n",
       "            <tr>\n",
       "                        <th id=\"T_c03f2_level0_row57\" class=\"row_heading level0 row57\" >57</th>\n",
       "                        <td id=\"T_c03f2_row57_col0\" class=\"data row57 col0\" >Fix Imbalance Method</td>\n",
       "                        <td id=\"T_c03f2_row57_col1\" class=\"data row57 col1\" >SMOTE</td>\n",
       "            </tr>\n",
       "    </tbody></table>"
      ],
      "text/plain": [
       "<pandas.io.formats.style.Styler at 0x7ff42428e1d0>"
      ]
     },
     "metadata": {},
     "output_type": "display_data"
    }
   ],
   "source": [
    "# Setting up of variables depending on its nature (continuous or Categorical) and also selecting those feature which are not important \n",
    "# for further analysis.\n",
    "classification_setup=setup(data=df,target='target',numeric_features=['g1_1','g1_10','g1_5','g2_1','g2_19','c_2',\n",
    "                                                                     'c_3','c_11','c_10','c_25'],\n",
    "                          ignore_features=['g1_2', 'g1_3', 'g1_11', 'g1_7', 'g1_15','g1_16', \n",
    "                           'g1_17', 'g1_18', 'g1_19', 'g1_20', 'g1_21','g2_2','g2_3', 'g2_5', 'g2_7', \n",
    "                           'g2_10', 'g2_15', 'g2_16', 'g2_17','g2_18', 'g2_11', 'g2_20', 'c_1', 'c_5', \n",
    "                           'c_4','c_7', 'c_8', 'c_9', 'c_13', 'c_14', 'c_15', 'c_16','c_22', 'c_23', \n",
    "                           'c_24', 'c_27', 'c_28','c_6'],silent = True)"
   ]
  },
  {
   "cell_type": "code",
   "execution_count": 35,
   "metadata": {},
   "outputs": [
    {
     "data": {
      "text/html": [
       "<style  type=\"text/css\" >\n",
       "    #T_b0d73_ th {\n",
       "          text-align: left;\n",
       "    }#T_b0d73_row0_col0,#T_b0d73_row1_col0,#T_b0d73_row1_col1,#T_b0d73_row1_col2,#T_b0d73_row1_col3,#T_b0d73_row1_col4,#T_b0d73_row1_col5,#T_b0d73_row1_col6,#T_b0d73_row1_col7,#T_b0d73_row2_col0,#T_b0d73_row2_col1,#T_b0d73_row2_col2,#T_b0d73_row2_col3,#T_b0d73_row2_col4,#T_b0d73_row2_col5,#T_b0d73_row2_col6,#T_b0d73_row2_col7,#T_b0d73_row3_col0,#T_b0d73_row3_col1,#T_b0d73_row3_col2,#T_b0d73_row3_col3,#T_b0d73_row3_col4,#T_b0d73_row3_col5,#T_b0d73_row3_col6,#T_b0d73_row3_col7,#T_b0d73_row4_col0,#T_b0d73_row4_col1,#T_b0d73_row4_col2,#T_b0d73_row4_col3,#T_b0d73_row4_col4,#T_b0d73_row4_col5,#T_b0d73_row4_col6,#T_b0d73_row4_col7,#T_b0d73_row5_col0,#T_b0d73_row5_col1,#T_b0d73_row5_col2,#T_b0d73_row5_col3,#T_b0d73_row5_col4,#T_b0d73_row5_col5,#T_b0d73_row5_col6,#T_b0d73_row5_col7,#T_b0d73_row6_col0,#T_b0d73_row6_col1,#T_b0d73_row6_col2,#T_b0d73_row6_col3,#T_b0d73_row6_col4,#T_b0d73_row6_col5,#T_b0d73_row6_col6,#T_b0d73_row6_col7,#T_b0d73_row7_col0,#T_b0d73_row7_col1,#T_b0d73_row7_col2,#T_b0d73_row7_col3,#T_b0d73_row7_col4,#T_b0d73_row7_col5,#T_b0d73_row7_col6,#T_b0d73_row7_col7,#T_b0d73_row8_col0,#T_b0d73_row8_col1,#T_b0d73_row8_col2,#T_b0d73_row8_col3,#T_b0d73_row8_col4,#T_b0d73_row8_col5,#T_b0d73_row8_col6,#T_b0d73_row8_col7,#T_b0d73_row9_col0,#T_b0d73_row9_col1,#T_b0d73_row9_col2,#T_b0d73_row9_col3,#T_b0d73_row9_col4,#T_b0d73_row9_col5,#T_b0d73_row9_col6,#T_b0d73_row9_col7,#T_b0d73_row10_col0,#T_b0d73_row10_col1,#T_b0d73_row10_col2,#T_b0d73_row10_col3,#T_b0d73_row10_col4,#T_b0d73_row10_col5,#T_b0d73_row10_col6,#T_b0d73_row10_col7,#T_b0d73_row11_col0,#T_b0d73_row11_col1,#T_b0d73_row11_col2,#T_b0d73_row11_col3,#T_b0d73_row11_col4,#T_b0d73_row11_col5,#T_b0d73_row11_col6,#T_b0d73_row11_col7,#T_b0d73_row12_col0,#T_b0d73_row12_col1,#T_b0d73_row12_col2,#T_b0d73_row12_col3,#T_b0d73_row12_col4,#T_b0d73_row12_col5,#T_b0d73_row12_col6,#T_b0d73_row12_col7,#T_b0d73_row13_col0,#T_b0d73_row13_col1,#T_b0d73_row13_col2,#T_b0d73_row13_col3,#T_b0d73_row13_col4,#T_b0d73_row13_col5,#T_b0d73_row13_col6,#T_b0d73_row13_col7,#T_b0d73_row14_col0,#T_b0d73_row14_col1,#T_b0d73_row14_col2,#T_b0d73_row14_col3,#T_b0d73_row14_col4,#T_b0d73_row14_col5,#T_b0d73_row14_col6,#T_b0d73_row14_col7{\n",
       "            text-align:  left;\n",
       "            text-align:  left;\n",
       "        }#T_b0d73_row0_col1,#T_b0d73_row0_col2,#T_b0d73_row0_col3,#T_b0d73_row0_col4,#T_b0d73_row0_col5,#T_b0d73_row0_col6,#T_b0d73_row0_col7{\n",
       "            text-align:  left;\n",
       "            text-align:  left;\n",
       "            background-color:  yellow;\n",
       "        }#T_b0d73_row0_col8,#T_b0d73_row1_col8,#T_b0d73_row2_col8,#T_b0d73_row3_col8,#T_b0d73_row4_col8,#T_b0d73_row5_col8,#T_b0d73_row6_col8,#T_b0d73_row7_col8,#T_b0d73_row8_col8,#T_b0d73_row9_col8,#T_b0d73_row10_col8,#T_b0d73_row12_col8,#T_b0d73_row13_col8,#T_b0d73_row14_col8{\n",
       "            text-align:  left;\n",
       "            text-align:  left;\n",
       "            background-color:  lightgrey;\n",
       "        }#T_b0d73_row11_col8{\n",
       "            text-align:  left;\n",
       "            text-align:  left;\n",
       "            background-color:  yellow;\n",
       "            background-color:  lightgrey;\n",
       "        }</style><table id=\"T_b0d73_\" ><thead>    <tr>        <th class=\"blank level0\" ></th>        <th class=\"col_heading level0 col0\" >Model</th>        <th class=\"col_heading level0 col1\" >Accuracy</th>        <th class=\"col_heading level0 col2\" >AUC</th>        <th class=\"col_heading level0 col3\" >Recall</th>        <th class=\"col_heading level0 col4\" >Prec.</th>        <th class=\"col_heading level0 col5\" >F1</th>        <th class=\"col_heading level0 col6\" >Kappa</th>        <th class=\"col_heading level0 col7\" >MCC</th>        <th class=\"col_heading level0 col8\" >TT (Sec)</th>    </tr></thead><tbody>\n",
       "                <tr>\n",
       "                        <th id=\"T_b0d73_level0_row0\" class=\"row_heading level0 row0\" >gbc</th>\n",
       "                        <td id=\"T_b0d73_row0_col0\" class=\"data row0 col0\" >Gradient Boosting Classifier</td>\n",
       "                        <td id=\"T_b0d73_row0_col1\" class=\"data row0 col1\" >0.5832</td>\n",
       "                        <td id=\"T_b0d73_row0_col2\" class=\"data row0 col2\" >0.7243</td>\n",
       "                        <td id=\"T_b0d73_row0_col3\" class=\"data row0 col3\" >0.5228</td>\n",
       "                        <td id=\"T_b0d73_row0_col4\" class=\"data row0 col4\" >0.5491</td>\n",
       "                        <td id=\"T_b0d73_row0_col5\" class=\"data row0 col5\" >0.5506</td>\n",
       "                        <td id=\"T_b0d73_row0_col6\" class=\"data row0 col6\" >0.3229</td>\n",
       "                        <td id=\"T_b0d73_row0_col7\" class=\"data row0 col7\" >0.3335</td>\n",
       "                        <td id=\"T_b0d73_row0_col8\" class=\"data row0 col8\" >1.1490</td>\n",
       "            </tr>\n",
       "            <tr>\n",
       "                        <th id=\"T_b0d73_level0_row1\" class=\"row_heading level0 row1\" >ada</th>\n",
       "                        <td id=\"T_b0d73_row1_col0\" class=\"data row1 col0\" >Ada Boost Classifier</td>\n",
       "                        <td id=\"T_b0d73_row1_col1\" class=\"data row1 col1\" >0.5813</td>\n",
       "                        <td id=\"T_b0d73_row1_col2\" class=\"data row1 col2\" >0.7069</td>\n",
       "                        <td id=\"T_b0d73_row1_col3\" class=\"data row1 col3\" >0.5152</td>\n",
       "                        <td id=\"T_b0d73_row1_col4\" class=\"data row1 col4\" >0.5360</td>\n",
       "                        <td id=\"T_b0d73_row1_col5\" class=\"data row1 col5\" >0.5295</td>\n",
       "                        <td id=\"T_b0d73_row1_col6\" class=\"data row1 col6\" >0.3155</td>\n",
       "                        <td id=\"T_b0d73_row1_col7\" class=\"data row1 col7\" >0.3334</td>\n",
       "                        <td id=\"T_b0d73_row1_col8\" class=\"data row1 col8\" >0.1370</td>\n",
       "            </tr>\n",
       "            <tr>\n",
       "                        <th id=\"T_b0d73_level0_row2\" class=\"row_heading level0 row2\" >lr</th>\n",
       "                        <td id=\"T_b0d73_row2_col0\" class=\"data row2 col0\" >Logistic Regression</td>\n",
       "                        <td id=\"T_b0d73_row2_col1\" class=\"data row2 col1\" >0.5767</td>\n",
       "                        <td id=\"T_b0d73_row2_col2\" class=\"data row2 col2\" >0.7222</td>\n",
       "                        <td id=\"T_b0d73_row2_col3\" class=\"data row2 col3\" >0.4966</td>\n",
       "                        <td id=\"T_b0d73_row2_col4\" class=\"data row2 col4\" >0.4830</td>\n",
       "                        <td id=\"T_b0d73_row2_col5\" class=\"data row2 col5\" >0.4935</td>\n",
       "                        <td id=\"T_b0d73_row2_col6\" class=\"data row2 col6\" >0.2896</td>\n",
       "                        <td id=\"T_b0d73_row2_col7\" class=\"data row2 col7\" >0.3243</td>\n",
       "                        <td id=\"T_b0d73_row2_col8\" class=\"data row2 col8\" >0.4590</td>\n",
       "            </tr>\n",
       "            <tr>\n",
       "                        <th id=\"T_b0d73_level0_row3\" class=\"row_heading level0 row3\" >ridge</th>\n",
       "                        <td id=\"T_b0d73_row3_col0\" class=\"data row3 col0\" >Ridge Classifier</td>\n",
       "                        <td id=\"T_b0d73_row3_col1\" class=\"data row3 col1\" >0.5735</td>\n",
       "                        <td id=\"T_b0d73_row3_col2\" class=\"data row3 col2\" >0.0000</td>\n",
       "                        <td id=\"T_b0d73_row3_col3\" class=\"data row3 col3\" >0.4907</td>\n",
       "                        <td id=\"T_b0d73_row3_col4\" class=\"data row3 col4\" >0.4266</td>\n",
       "                        <td id=\"T_b0d73_row3_col5\" class=\"data row3 col5\" >0.4859</td>\n",
       "                        <td id=\"T_b0d73_row3_col6\" class=\"data row3 col6\" >0.2795</td>\n",
       "                        <td id=\"T_b0d73_row3_col7\" class=\"data row3 col7\" >0.3179</td>\n",
       "                        <td id=\"T_b0d73_row3_col8\" class=\"data row3 col8\" >0.0220</td>\n",
       "            </tr>\n",
       "            <tr>\n",
       "                        <th id=\"T_b0d73_level0_row4\" class=\"row_heading level0 row4\" >lda</th>\n",
       "                        <td id=\"T_b0d73_row4_col0\" class=\"data row4 col0\" >Linear Discriminant Analysis</td>\n",
       "                        <td id=\"T_b0d73_row4_col1\" class=\"data row4 col1\" >0.5726</td>\n",
       "                        <td id=\"T_b0d73_row4_col2\" class=\"data row4 col2\" >0.7234</td>\n",
       "                        <td id=\"T_b0d73_row4_col3\" class=\"data row4 col3\" >0.4942</td>\n",
       "                        <td id=\"T_b0d73_row4_col4\" class=\"data row4 col4\" >0.5222</td>\n",
       "                        <td id=\"T_b0d73_row4_col5\" class=\"data row4 col5\" >0.5122</td>\n",
       "                        <td id=\"T_b0d73_row4_col6\" class=\"data row4 col6\" >0.2844</td>\n",
       "                        <td id=\"T_b0d73_row4_col7\" class=\"data row4 col7\" >0.3108</td>\n",
       "                        <td id=\"T_b0d73_row4_col8\" class=\"data row4 col8\" >0.0200</td>\n",
       "            </tr>\n",
       "            <tr>\n",
       "                        <th id=\"T_b0d73_level0_row5\" class=\"row_heading level0 row5\" >lightgbm</th>\n",
       "                        <td id=\"T_b0d73_row5_col0\" class=\"data row5 col0\" >Light Gradient Boosting Machine</td>\n",
       "                        <td id=\"T_b0d73_row5_col1\" class=\"data row5 col1\" >0.5597</td>\n",
       "                        <td id=\"T_b0d73_row5_col2\" class=\"data row5 col2\" >0.7073</td>\n",
       "                        <td id=\"T_b0d73_row5_col3\" class=\"data row5 col3\" >0.5002</td>\n",
       "                        <td id=\"T_b0d73_row5_col4\" class=\"data row5 col4\" >0.5248</td>\n",
       "                        <td id=\"T_b0d73_row5_col5\" class=\"data row5 col5\" >0.5312</td>\n",
       "                        <td id=\"T_b0d73_row5_col6\" class=\"data row5 col6\" >0.2869</td>\n",
       "                        <td id=\"T_b0d73_row5_col7\" class=\"data row5 col7\" >0.2945</td>\n",
       "                        <td id=\"T_b0d73_row5_col8\" class=\"data row5 col8\" >0.2030</td>\n",
       "            </tr>\n",
       "            <tr>\n",
       "                        <th id=\"T_b0d73_level0_row6\" class=\"row_heading level0 row6\" >et</th>\n",
       "                        <td id=\"T_b0d73_row6_col0\" class=\"data row6 col0\" >Extra Trees Classifier</td>\n",
       "                        <td id=\"T_b0d73_row6_col1\" class=\"data row6 col1\" >0.5560</td>\n",
       "                        <td id=\"T_b0d73_row6_col2\" class=\"data row6 col2\" >0.7024</td>\n",
       "                        <td id=\"T_b0d73_row6_col3\" class=\"data row6 col3\" >0.4953</td>\n",
       "                        <td id=\"T_b0d73_row6_col4\" class=\"data row6 col4\" >0.5173</td>\n",
       "                        <td id=\"T_b0d73_row6_col5\" class=\"data row6 col5\" >0.5252</td>\n",
       "                        <td id=\"T_b0d73_row6_col6\" class=\"data row6 col6\" >0.2793</td>\n",
       "                        <td id=\"T_b0d73_row6_col7\" class=\"data row6 col7\" >0.2874</td>\n",
       "                        <td id=\"T_b0d73_row6_col8\" class=\"data row6 col8\" >0.4670</td>\n",
       "            </tr>\n",
       "            <tr>\n",
       "                        <th id=\"T_b0d73_level0_row7\" class=\"row_heading level0 row7\" >rf</th>\n",
       "                        <td id=\"T_b0d73_row7_col0\" class=\"data row7 col0\" >Random Forest Classifier</td>\n",
       "                        <td id=\"T_b0d73_row7_col1\" class=\"data row7 col1\" >0.5556</td>\n",
       "                        <td id=\"T_b0d73_row7_col2\" class=\"data row7 col2\" >0.7051</td>\n",
       "                        <td id=\"T_b0d73_row7_col3\" class=\"data row7 col3\" >0.4937</td>\n",
       "                        <td id=\"T_b0d73_row7_col4\" class=\"data row7 col4\" >0.5132</td>\n",
       "                        <td id=\"T_b0d73_row7_col5\" class=\"data row7 col5\" >0.5231</td>\n",
       "                        <td id=\"T_b0d73_row7_col6\" class=\"data row7 col6\" >0.2797</td>\n",
       "                        <td id=\"T_b0d73_row7_col7\" class=\"data row7 col7\" >0.2879</td>\n",
       "                        <td id=\"T_b0d73_row7_col8\" class=\"data row7 col8\" >0.5920</td>\n",
       "            </tr>\n",
       "            <tr>\n",
       "                        <th id=\"T_b0d73_level0_row8\" class=\"row_heading level0 row8\" >catboost</th>\n",
       "                        <td id=\"T_b0d73_row8_col0\" class=\"data row8 col0\" >CatBoost Classifier</td>\n",
       "                        <td id=\"T_b0d73_row8_col1\" class=\"data row8 col1\" >0.5504</td>\n",
       "                        <td id=\"T_b0d73_row8_col2\" class=\"data row8 col2\" >0.7026</td>\n",
       "                        <td id=\"T_b0d73_row8_col3\" class=\"data row8 col3\" >0.4918</td>\n",
       "                        <td id=\"T_b0d73_row8_col4\" class=\"data row8 col4\" >0.5156</td>\n",
       "                        <td id=\"T_b0d73_row8_col5\" class=\"data row8 col5\" >0.5246</td>\n",
       "                        <td id=\"T_b0d73_row8_col6\" class=\"data row8 col6\" >0.2739</td>\n",
       "                        <td id=\"T_b0d73_row8_col7\" class=\"data row8 col7\" >0.2799</td>\n",
       "                        <td id=\"T_b0d73_row8_col8\" class=\"data row8 col8\" >4.9450</td>\n",
       "            </tr>\n",
       "            <tr>\n",
       "                        <th id=\"T_b0d73_level0_row9\" class=\"row_heading level0 row9\" >xgboost</th>\n",
       "                        <td id=\"T_b0d73_row9_col0\" class=\"data row9 col0\" >Extreme Gradient Boosting</td>\n",
       "                        <td id=\"T_b0d73_row9_col1\" class=\"data row9 col1\" >0.5480</td>\n",
       "                        <td id=\"T_b0d73_row9_col2\" class=\"data row9 col2\" >0.6947</td>\n",
       "                        <td id=\"T_b0d73_row9_col3\" class=\"data row9 col3\" >0.4928</td>\n",
       "                        <td id=\"T_b0d73_row9_col4\" class=\"data row9 col4\" >0.5175</td>\n",
       "                        <td id=\"T_b0d73_row9_col5\" class=\"data row9 col5\" >0.5257</td>\n",
       "                        <td id=\"T_b0d73_row9_col6\" class=\"data row9 col6\" >0.2728</td>\n",
       "                        <td id=\"T_b0d73_row9_col7\" class=\"data row9 col7\" >0.2776</td>\n",
       "                        <td id=\"T_b0d73_row9_col8\" class=\"data row9 col8\" >53.4140</td>\n",
       "            </tr>\n",
       "            <tr>\n",
       "                        <th id=\"T_b0d73_level0_row10\" class=\"row_heading level0 row10\" >qda</th>\n",
       "                        <td id=\"T_b0d73_row10_col0\" class=\"data row10 col0\" >Quadratic Discriminant Analysis</td>\n",
       "                        <td id=\"T_b0d73_row10_col1\" class=\"data row10 col1\" >0.5418</td>\n",
       "                        <td id=\"T_b0d73_row10_col2\" class=\"data row10 col2\" >0.7052</td>\n",
       "                        <td id=\"T_b0d73_row10_col3\" class=\"data row10 col3\" >0.4829</td>\n",
       "                        <td id=\"T_b0d73_row10_col4\" class=\"data row10 col4\" >0.5210</td>\n",
       "                        <td id=\"T_b0d73_row10_col5\" class=\"data row10 col5\" >0.5228</td>\n",
       "                        <td id=\"T_b0d73_row10_col6\" class=\"data row10 col6\" >0.2580</td>\n",
       "                        <td id=\"T_b0d73_row10_col7\" class=\"data row10 col7\" >0.2637</td>\n",
       "                        <td id=\"T_b0d73_row10_col8\" class=\"data row10 col8\" >0.0190</td>\n",
       "            </tr>\n",
       "            <tr>\n",
       "                        <th id=\"T_b0d73_level0_row11\" class=\"row_heading level0 row11\" >nb</th>\n",
       "                        <td id=\"T_b0d73_row11_col0\" class=\"data row11 col0\" >Naive Bayes</td>\n",
       "                        <td id=\"T_b0d73_row11_col1\" class=\"data row11 col1\" >0.5251</td>\n",
       "                        <td id=\"T_b0d73_row11_col2\" class=\"data row11 col2\" >0.6987</td>\n",
       "                        <td id=\"T_b0d73_row11_col3\" class=\"data row11 col3\" >0.4962</td>\n",
       "                        <td id=\"T_b0d73_row11_col4\" class=\"data row11 col4\" >0.5306</td>\n",
       "                        <td id=\"T_b0d73_row11_col5\" class=\"data row11 col5\" >0.5272</td>\n",
       "                        <td id=\"T_b0d73_row11_col6\" class=\"data row11 col6\" >0.2637</td>\n",
       "                        <td id=\"T_b0d73_row11_col7\" class=\"data row11 col7\" >0.2641</td>\n",
       "                        <td id=\"T_b0d73_row11_col8\" class=\"data row11 col8\" >0.0160</td>\n",
       "            </tr>\n",
       "            <tr>\n",
       "                        <th id=\"T_b0d73_level0_row12\" class=\"row_heading level0 row12\" >svm</th>\n",
       "                        <td id=\"T_b0d73_row12_col0\" class=\"data row12 col0\" >SVM - Linear Kernel</td>\n",
       "                        <td id=\"T_b0d73_row12_col1\" class=\"data row12 col1\" >0.4997</td>\n",
       "                        <td id=\"T_b0d73_row12_col2\" class=\"data row12 col2\" >0.0000</td>\n",
       "                        <td id=\"T_b0d73_row12_col3\" class=\"data row12 col3\" >0.4408</td>\n",
       "                        <td id=\"T_b0d73_row12_col4\" class=\"data row12 col4\" >0.4621</td>\n",
       "                        <td id=\"T_b0d73_row12_col5\" class=\"data row12 col5\" >0.4418</td>\n",
       "                        <td id=\"T_b0d73_row12_col6\" class=\"data row12 col6\" >0.1871</td>\n",
       "                        <td id=\"T_b0d73_row12_col7\" class=\"data row12 col7\" >0.2149</td>\n",
       "                        <td id=\"T_b0d73_row12_col8\" class=\"data row12 col8\" >0.0730</td>\n",
       "            </tr>\n",
       "            <tr>\n",
       "                        <th id=\"T_b0d73_level0_row13\" class=\"row_heading level0 row13\" >knn</th>\n",
       "                        <td id=\"T_b0d73_row13_col0\" class=\"data row13 col0\" >K Neighbors Classifier</td>\n",
       "                        <td id=\"T_b0d73_row13_col1\" class=\"data row13 col1\" >0.4738</td>\n",
       "                        <td id=\"T_b0d73_row13_col2\" class=\"data row13 col2\" >0.6392</td>\n",
       "                        <td id=\"T_b0d73_row13_col3\" class=\"data row13 col3\" >0.4290</td>\n",
       "                        <td id=\"T_b0d73_row13_col4\" class=\"data row13 col4\" >0.4739</td>\n",
       "                        <td id=\"T_b0d73_row13_col5\" class=\"data row13 col5\" >0.4684</td>\n",
       "                        <td id=\"T_b0d73_row13_col6\" class=\"data row13 col6\" >0.1646</td>\n",
       "                        <td id=\"T_b0d73_row13_col7\" class=\"data row13 col7\" >0.1663</td>\n",
       "                        <td id=\"T_b0d73_row13_col8\" class=\"data row13 col8\" >0.0840</td>\n",
       "            </tr>\n",
       "            <tr>\n",
       "                        <th id=\"T_b0d73_level0_row14\" class=\"row_heading level0 row14\" >dt</th>\n",
       "                        <td id=\"T_b0d73_row14_col0\" class=\"data row14 col0\" >Decision Tree Classifier</td>\n",
       "                        <td id=\"T_b0d73_row14_col1\" class=\"data row14 col1\" >0.4367</td>\n",
       "                        <td id=\"T_b0d73_row14_col2\" class=\"data row14 col2\" >0.5652</td>\n",
       "                        <td id=\"T_b0d73_row14_col3\" class=\"data row14 col3\" >0.4048</td>\n",
       "                        <td id=\"T_b0d73_row14_col4\" class=\"data row14 col4\" >0.4368</td>\n",
       "                        <td id=\"T_b0d73_row14_col5\" class=\"data row14 col5\" >0.4365</td>\n",
       "                        <td id=\"T_b0d73_row14_col6\" class=\"data row14 col6\" >0.1220</td>\n",
       "                        <td id=\"T_b0d73_row14_col7\" class=\"data row14 col7\" >0.1221</td>\n",
       "                        <td id=\"T_b0d73_row14_col8\" class=\"data row14 col8\" >0.0280</td>\n",
       "            </tr>\n",
       "    </tbody></table>"
      ],
      "text/plain": [
       "<pandas.io.formats.style.Styler at 0x7ff424a64190>"
      ]
     },
     "metadata": {},
     "output_type": "display_data"
    },
    {
     "data": {
      "text/plain": [
       "GradientBoostingClassifier(ccp_alpha=0.0, criterion='friedman_mse', init=None,\n",
       "                           learning_rate=0.1, loss='deviance', max_depth=3,\n",
       "                           max_features=None, max_leaf_nodes=None,\n",
       "                           min_impurity_decrease=0.0, min_impurity_split=None,\n",
       "                           min_samples_leaf=1, min_samples_split=2,\n",
       "                           min_weight_fraction_leaf=0.0, n_estimators=100,\n",
       "                           n_iter_no_change=None, presort='deprecated',\n",
       "                           random_state=8146, subsample=1.0, tol=0.0001,\n",
       "                           validation_fraction=0.1, verbose=0,\n",
       "                           warm_start=False)"
      ]
     },
     "execution_count": 35,
     "metadata": {},
     "output_type": "execute_result"
    }
   ],
   "source": [
    "compare_models() # Here pycaret will build different model based on selections we have made above. It will show accuracy and other metrics \n",
    "# that how has different model performed on data."
   ]
  },
  {
   "cell_type": "code",
   "execution_count": 36,
   "metadata": {},
   "outputs": [
    {
     "data": {
      "text/html": [
       "<style  type=\"text/css\" >\n",
       "#T_aece8_row10_col0,#T_aece8_row10_col1,#T_aece8_row10_col2,#T_aece8_row10_col3,#T_aece8_row10_col4,#T_aece8_row10_col5,#T_aece8_row10_col6{\n",
       "            background:  yellow;\n",
       "        }</style><table id=\"T_aece8_\" ><thead>    <tr>        <th class=\"blank level0\" ></th>        <th class=\"col_heading level0 col0\" >Accuracy</th>        <th class=\"col_heading level0 col1\" >AUC</th>        <th class=\"col_heading level0 col2\" >Recall</th>        <th class=\"col_heading level0 col3\" >Prec.</th>        <th class=\"col_heading level0 col4\" >F1</th>        <th class=\"col_heading level0 col5\" >Kappa</th>        <th class=\"col_heading level0 col6\" >MCC</th>    </tr></thead><tbody>\n",
       "                <tr>\n",
       "                        <th id=\"T_aece8_level0_row0\" class=\"row_heading level0 row0\" >0</th>\n",
       "                        <td id=\"T_aece8_row0_col0\" class=\"data row0 col0\" >0.5927</td>\n",
       "                        <td id=\"T_aece8_row0_col1\" class=\"data row0 col1\" >0.7253</td>\n",
       "                        <td id=\"T_aece8_row0_col2\" class=\"data row0 col2\" >0.5239</td>\n",
       "                        <td id=\"T_aece8_row0_col3\" class=\"data row0 col3\" >0.5597</td>\n",
       "                        <td id=\"T_aece8_row0_col4\" class=\"data row0 col4\" >0.5524</td>\n",
       "                        <td id=\"T_aece8_row0_col5\" class=\"data row0 col5\" >0.3303</td>\n",
       "                        <td id=\"T_aece8_row0_col6\" class=\"data row0 col6\" >0.3465</td>\n",
       "            </tr>\n",
       "            <tr>\n",
       "                        <th id=\"T_aece8_level0_row1\" class=\"row_heading level0 row1\" >1</th>\n",
       "                        <td id=\"T_aece8_row1_col0\" class=\"data row1 col0\" >0.5927</td>\n",
       "                        <td id=\"T_aece8_row1_col1\" class=\"data row1 col1\" >0.7293</td>\n",
       "                        <td id=\"T_aece8_row1_col2\" class=\"data row1 col2\" >0.5317</td>\n",
       "                        <td id=\"T_aece8_row1_col3\" class=\"data row1 col3\" >0.5596</td>\n",
       "                        <td id=\"T_aece8_row1_col4\" class=\"data row1 col4\" >0.5605</td>\n",
       "                        <td id=\"T_aece8_row1_col5\" class=\"data row1 col5\" >0.3361</td>\n",
       "                        <td id=\"T_aece8_row1_col6\" class=\"data row1 col6\" >0.3475</td>\n",
       "            </tr>\n",
       "            <tr>\n",
       "                        <th id=\"T_aece8_level0_row2\" class=\"row_heading level0 row2\" >2</th>\n",
       "                        <td id=\"T_aece8_row2_col0\" class=\"data row2 col0\" >0.5948</td>\n",
       "                        <td id=\"T_aece8_row2_col1\" class=\"data row2 col1\" >0.7265</td>\n",
       "                        <td id=\"T_aece8_row2_col2\" class=\"data row2 col2\" >0.5349</td>\n",
       "                        <td id=\"T_aece8_row2_col3\" class=\"data row2 col3\" >0.5621</td>\n",
       "                        <td id=\"T_aece8_row2_col4\" class=\"data row2 col4\" >0.5610</td>\n",
       "                        <td id=\"T_aece8_row2_col5\" class=\"data row2 col5\" >0.3407</td>\n",
       "                        <td id=\"T_aece8_row2_col6\" class=\"data row2 col6\" >0.3525</td>\n",
       "            </tr>\n",
       "            <tr>\n",
       "                        <th id=\"T_aece8_level0_row3\" class=\"row_heading level0 row3\" >3</th>\n",
       "                        <td id=\"T_aece8_row3_col0\" class=\"data row3 col0\" >0.5659</td>\n",
       "                        <td id=\"T_aece8_row3_col1\" class=\"data row3 col1\" >0.7104</td>\n",
       "                        <td id=\"T_aece8_row3_col2\" class=\"data row3 col2\" >0.5004</td>\n",
       "                        <td id=\"T_aece8_row3_col3\" class=\"data row3 col3\" >0.5329</td>\n",
       "                        <td id=\"T_aece8_row3_col4\" class=\"data row3 col4\" >0.5314</td>\n",
       "                        <td id=\"T_aece8_row3_col5\" class=\"data row3 col5\" >0.2884</td>\n",
       "                        <td id=\"T_aece8_row3_col6\" class=\"data row3 col6\" >0.3004</td>\n",
       "            </tr>\n",
       "            <tr>\n",
       "                        <th id=\"T_aece8_level0_row4\" class=\"row_heading level0 row4\" >4</th>\n",
       "                        <td id=\"T_aece8_row4_col0\" class=\"data row4 col0\" >0.5788</td>\n",
       "                        <td id=\"T_aece8_row4_col1\" class=\"data row4 col1\" >0.7549</td>\n",
       "                        <td id=\"T_aece8_row4_col2\" class=\"data row4 col2\" >0.5179</td>\n",
       "                        <td id=\"T_aece8_row4_col3\" class=\"data row4 col3\" >0.5433</td>\n",
       "                        <td id=\"T_aece8_row4_col4\" class=\"data row4 col4\" >0.5420</td>\n",
       "                        <td id=\"T_aece8_row4_col5\" class=\"data row4 col5\" >0.3163</td>\n",
       "                        <td id=\"T_aece8_row4_col6\" class=\"data row4 col6\" >0.3281</td>\n",
       "            </tr>\n",
       "            <tr>\n",
       "                        <th id=\"T_aece8_level0_row5\" class=\"row_heading level0 row5\" >5</th>\n",
       "                        <td id=\"T_aece8_row5_col0\" class=\"data row5 col0\" >0.5918</td>\n",
       "                        <td id=\"T_aece8_row5_col1\" class=\"data row5 col1\" >0.7163</td>\n",
       "                        <td id=\"T_aece8_row5_col2\" class=\"data row5 col2\" >0.5331</td>\n",
       "                        <td id=\"T_aece8_row5_col3\" class=\"data row5 col3\" >0.5579</td>\n",
       "                        <td id=\"T_aece8_row5_col4\" class=\"data row5 col4\" >0.5587</td>\n",
       "                        <td id=\"T_aece8_row5_col5\" class=\"data row5 col5\" >0.3361</td>\n",
       "                        <td id=\"T_aece8_row5_col6\" class=\"data row5 col6\" >0.3475</td>\n",
       "            </tr>\n",
       "            <tr>\n",
       "                        <th id=\"T_aece8_level0_row6\" class=\"row_heading level0 row6\" >6</th>\n",
       "                        <td id=\"T_aece8_row6_col0\" class=\"data row6 col0\" >0.5853</td>\n",
       "                        <td id=\"T_aece8_row6_col1\" class=\"data row6 col1\" >0.7118</td>\n",
       "                        <td id=\"T_aece8_row6_col2\" class=\"data row6 col2\" >0.5298</td>\n",
       "                        <td id=\"T_aece8_row6_col3\" class=\"data row6 col3\" >0.5518</td>\n",
       "                        <td id=\"T_aece8_row6_col4\" class=\"data row6 col4\" >0.5507</td>\n",
       "                        <td id=\"T_aece8_row6_col5\" class=\"data row6 col5\" >0.3307</td>\n",
       "                        <td id=\"T_aece8_row6_col6\" class=\"data row6 col6\" >0.3416</td>\n",
       "            </tr>\n",
       "            <tr>\n",
       "                        <th id=\"T_aece8_level0_row7\" class=\"row_heading level0 row7\" >7</th>\n",
       "                        <td id=\"T_aece8_row7_col0\" class=\"data row7 col0\" >0.5745</td>\n",
       "                        <td id=\"T_aece8_row7_col1\" class=\"data row7 col1\" >0.7126</td>\n",
       "                        <td id=\"T_aece8_row7_col2\" class=\"data row7 col2\" >0.5196</td>\n",
       "                        <td id=\"T_aece8_row7_col3\" class=\"data row7 col3\" >0.5484</td>\n",
       "                        <td id=\"T_aece8_row7_col4\" class=\"data row7 col4\" >0.5530</td>\n",
       "                        <td id=\"T_aece8_row7_col5\" class=\"data row7 col5\" >0.3136</td>\n",
       "                        <td id=\"T_aece8_row7_col6\" class=\"data row7 col6\" >0.3196</td>\n",
       "            </tr>\n",
       "            <tr>\n",
       "                        <th id=\"T_aece8_level0_row8\" class=\"row_heading level0 row8\" >8</th>\n",
       "                        <td id=\"T_aece8_row8_col0\" class=\"data row8 col0\" >0.5875</td>\n",
       "                        <td id=\"T_aece8_row8_col1\" class=\"data row8 col1\" >0.7477</td>\n",
       "                        <td id=\"T_aece8_row8_col2\" class=\"data row8 col2\" >0.5233</td>\n",
       "                        <td id=\"T_aece8_row8_col3\" class=\"data row8 col3\" >0.5345</td>\n",
       "                        <td id=\"T_aece8_row8_col4\" class=\"data row8 col4\" >0.5515</td>\n",
       "                        <td id=\"T_aece8_row8_col5\" class=\"data row8 col5\" >0.3341</td>\n",
       "                        <td id=\"T_aece8_row8_col6\" class=\"data row8 col6\" >0.3426</td>\n",
       "            </tr>\n",
       "            <tr>\n",
       "                        <th id=\"T_aece8_level0_row9\" class=\"row_heading level0 row9\" >9</th>\n",
       "                        <td id=\"T_aece8_row9_col0\" class=\"data row9 col0\" >0.5680</td>\n",
       "                        <td id=\"T_aece8_row9_col1\" class=\"data row9 col1\" >0.7084</td>\n",
       "                        <td id=\"T_aece8_row9_col2\" class=\"data row9 col2\" >0.5134</td>\n",
       "                        <td id=\"T_aece8_row9_col3\" class=\"data row9 col3\" >0.5406</td>\n",
       "                        <td id=\"T_aece8_row9_col4\" class=\"data row9 col4\" >0.5450</td>\n",
       "                        <td id=\"T_aece8_row9_col5\" class=\"data row9 col5\" >0.3029</td>\n",
       "                        <td id=\"T_aece8_row9_col6\" class=\"data row9 col6\" >0.3092</td>\n",
       "            </tr>\n",
       "            <tr>\n",
       "                        <th id=\"T_aece8_level0_row10\" class=\"row_heading level0 row10\" >Mean</th>\n",
       "                        <td id=\"T_aece8_row10_col0\" class=\"data row10 col0\" >0.5832</td>\n",
       "                        <td id=\"T_aece8_row10_col1\" class=\"data row10 col1\" >0.7243</td>\n",
       "                        <td id=\"T_aece8_row10_col2\" class=\"data row10 col2\" >0.5228</td>\n",
       "                        <td id=\"T_aece8_row10_col3\" class=\"data row10 col3\" >0.5491</td>\n",
       "                        <td id=\"T_aece8_row10_col4\" class=\"data row10 col4\" >0.5506</td>\n",
       "                        <td id=\"T_aece8_row10_col5\" class=\"data row10 col5\" >0.3229</td>\n",
       "                        <td id=\"T_aece8_row10_col6\" class=\"data row10 col6\" >0.3335</td>\n",
       "            </tr>\n",
       "            <tr>\n",
       "                        <th id=\"T_aece8_level0_row11\" class=\"row_heading level0 row11\" >SD</th>\n",
       "                        <td id=\"T_aece8_row11_col0\" class=\"data row11 col0\" >0.0102</td>\n",
       "                        <td id=\"T_aece8_row11_col1\" class=\"data row11 col1\" >0.0152</td>\n",
       "                        <td id=\"T_aece8_row11_col2\" class=\"data row11 col2\" >0.0100</td>\n",
       "                        <td id=\"T_aece8_row11_col3\" class=\"data row11 col3\" >0.0103</td>\n",
       "                        <td id=\"T_aece8_row11_col4\" class=\"data row11 col4\" >0.0087</td>\n",
       "                        <td id=\"T_aece8_row11_col5\" class=\"data row11 col5\" >0.0162</td>\n",
       "                        <td id=\"T_aece8_row11_col6\" class=\"data row11 col6\" >0.0173</td>\n",
       "            </tr>\n",
       "    </tbody></table>"
      ],
      "text/plain": [
       "<pandas.io.formats.style.Styler at 0x7ff4241b48d0>"
      ]
     },
     "metadata": {},
     "output_type": "display_data"
    }
   ],
   "source": [
    "gbc  = create_model('gbc') # Based on Above Summarized result Gradient Boost Performs best "
   ]
  },
  {
   "cell_type": "code",
   "execution_count": 38,
   "metadata": {},
   "outputs": [
    {
     "data": {
      "text/html": [
       "<style  type=\"text/css\" >\n",
       "#T_5c28c_row10_col0,#T_5c28c_row10_col1,#T_5c28c_row10_col2,#T_5c28c_row10_col3,#T_5c28c_row10_col4,#T_5c28c_row10_col5,#T_5c28c_row10_col6{\n",
       "            background:  yellow;\n",
       "        }</style><table id=\"T_5c28c_\" ><thead>    <tr>        <th class=\"blank level0\" ></th>        <th class=\"col_heading level0 col0\" >Accuracy</th>        <th class=\"col_heading level0 col1\" >AUC</th>        <th class=\"col_heading level0 col2\" >Recall</th>        <th class=\"col_heading level0 col3\" >Prec.</th>        <th class=\"col_heading level0 col4\" >F1</th>        <th class=\"col_heading level0 col5\" >Kappa</th>        <th class=\"col_heading level0 col6\" >MCC</th>    </tr></thead><tbody>\n",
       "                <tr>\n",
       "                        <th id=\"T_5c28c_level0_row0\" class=\"row_heading level0 row0\" >0</th>\n",
       "                        <td id=\"T_5c28c_row0_col0\" class=\"data row0 col0\" >0.5841</td>\n",
       "                        <td id=\"T_5c28c_row0_col1\" class=\"data row0 col1\" >0.7304</td>\n",
       "                        <td id=\"T_5c28c_row0_col2\" class=\"data row0 col2\" >0.5106</td>\n",
       "                        <td id=\"T_5c28c_row0_col3\" class=\"data row0 col3\" >0.5559</td>\n",
       "                        <td id=\"T_5c28c_row0_col4\" class=\"data row0 col4\" >0.5352</td>\n",
       "                        <td id=\"T_5c28c_row0_col5\" class=\"data row0 col5\" >0.3122</td>\n",
       "                        <td id=\"T_5c28c_row0_col6\" class=\"data row0 col6\" >0.3325</td>\n",
       "            </tr>\n",
       "            <tr>\n",
       "                        <th id=\"T_5c28c_level0_row1\" class=\"row_heading level0 row1\" >1</th>\n",
       "                        <td id=\"T_5c28c_row1_col0\" class=\"data row1 col0\" >0.6013</td>\n",
       "                        <td id=\"T_5c28c_row1_col1\" class=\"data row1 col1\" >0.7341</td>\n",
       "                        <td id=\"T_5c28c_row1_col2\" class=\"data row1 col2\" >0.5373</td>\n",
       "                        <td id=\"T_5c28c_row1_col3\" class=\"data row1 col3\" >0.5779</td>\n",
       "                        <td id=\"T_5c28c_row1_col4\" class=\"data row1 col4\" >0.5623</td>\n",
       "                        <td id=\"T_5c28c_row1_col5\" class=\"data row1 col5\" >0.3468</td>\n",
       "                        <td id=\"T_5c28c_row1_col6\" class=\"data row1 col6\" >0.3633</td>\n",
       "            </tr>\n",
       "            <tr>\n",
       "                        <th id=\"T_5c28c_level0_row2\" class=\"row_heading level0 row2\" >2</th>\n",
       "                        <td id=\"T_5c28c_row2_col0\" class=\"data row2 col0\" >0.6099</td>\n",
       "                        <td id=\"T_5c28c_row2_col1\" class=\"data row2 col1\" >0.7451</td>\n",
       "                        <td id=\"T_5c28c_row2_col2\" class=\"data row2 col2\" >0.5469</td>\n",
       "                        <td id=\"T_5c28c_row2_col3\" class=\"data row2 col3\" >0.5823</td>\n",
       "                        <td id=\"T_5c28c_row2_col4\" class=\"data row2 col4\" >0.5673</td>\n",
       "                        <td id=\"T_5c28c_row2_col5\" class=\"data row2 col5\" >0.3611</td>\n",
       "                        <td id=\"T_5c28c_row2_col6\" class=\"data row2 col6\" >0.3790</td>\n",
       "            </tr>\n",
       "            <tr>\n",
       "                        <th id=\"T_5c28c_level0_row3\" class=\"row_heading level0 row3\" >3</th>\n",
       "                        <td id=\"T_5c28c_row3_col0\" class=\"data row3 col0\" >0.5745</td>\n",
       "                        <td id=\"T_5c28c_row3_col1\" class=\"data row3 col1\" >0.7128</td>\n",
       "                        <td id=\"T_5c28c_row3_col2\" class=\"data row3 col2\" >0.5069</td>\n",
       "                        <td id=\"T_5c28c_row3_col3\" class=\"data row3 col3\" >0.5449</td>\n",
       "                        <td id=\"T_5c28c_row3_col4\" class=\"data row3 col4\" >0.5345</td>\n",
       "                        <td id=\"T_5c28c_row3_col5\" class=\"data row3 col5\" >0.2979</td>\n",
       "                        <td id=\"T_5c28c_row3_col6\" class=\"data row3 col6\" >0.3142</td>\n",
       "            </tr>\n",
       "            <tr>\n",
       "                        <th id=\"T_5c28c_level0_row4\" class=\"row_heading level0 row4\" >4</th>\n",
       "                        <td id=\"T_5c28c_row4_col0\" class=\"data row4 col0\" >0.5983</td>\n",
       "                        <td id=\"T_5c28c_row4_col1\" class=\"data row4 col1\" >0.7519</td>\n",
       "                        <td id=\"T_5c28c_row4_col2\" class=\"data row4 col2\" >0.5397</td>\n",
       "                        <td id=\"T_5c28c_row4_col3\" class=\"data row4 col3\" >0.5706</td>\n",
       "                        <td id=\"T_5c28c_row4_col4\" class=\"data row4 col4\" >0.5640</td>\n",
       "                        <td id=\"T_5c28c_row4_col5\" class=\"data row4 col5\" >0.3499</td>\n",
       "                        <td id=\"T_5c28c_row4_col6\" class=\"data row4 col6\" >0.3622</td>\n",
       "            </tr>\n",
       "            <tr>\n",
       "                        <th id=\"T_5c28c_level0_row5\" class=\"row_heading level0 row5\" >5</th>\n",
       "                        <td id=\"T_5c28c_row5_col0\" class=\"data row5 col0\" >0.6004</td>\n",
       "                        <td id=\"T_5c28c_row5_col1\" class=\"data row5 col1\" >0.7209</td>\n",
       "                        <td id=\"T_5c28c_row5_col2\" class=\"data row5 col2\" >0.5352</td>\n",
       "                        <td id=\"T_5c28c_row5_col3\" class=\"data row5 col3\" >0.5635</td>\n",
       "                        <td id=\"T_5c28c_row5_col4\" class=\"data row5 col4\" >0.5576</td>\n",
       "                        <td id=\"T_5c28c_row5_col5\" class=\"data row5 col5\" >0.3448</td>\n",
       "                        <td id=\"T_5c28c_row5_col6\" class=\"data row5 col6\" >0.3619</td>\n",
       "            </tr>\n",
       "            <tr>\n",
       "                        <th id=\"T_5c28c_level0_row6\" class=\"row_heading level0 row6\" >6</th>\n",
       "                        <td id=\"T_5c28c_row6_col0\" class=\"data row6 col0\" >0.5918</td>\n",
       "                        <td id=\"T_5c28c_row6_col1\" class=\"data row6 col1\" >0.7156</td>\n",
       "                        <td id=\"T_5c28c_row6_col2\" class=\"data row6 col2\" >0.5335</td>\n",
       "                        <td id=\"T_5c28c_row6_col3\" class=\"data row6 col3\" >0.5572</td>\n",
       "                        <td id=\"T_5c28c_row6_col4\" class=\"data row6 col4\" >0.5553</td>\n",
       "                        <td id=\"T_5c28c_row6_col5\" class=\"data row6 col5\" >0.3369</td>\n",
       "                        <td id=\"T_5c28c_row6_col6\" class=\"data row6 col6\" >0.3494</td>\n",
       "            </tr>\n",
       "            <tr>\n",
       "                        <th id=\"T_5c28c_level0_row7\" class=\"row_heading level0 row7\" >7</th>\n",
       "                        <td id=\"T_5c28c_row7_col0\" class=\"data row7 col0\" >0.5940</td>\n",
       "                        <td id=\"T_5c28c_row7_col1\" class=\"data row7 col1\" >0.7156</td>\n",
       "                        <td id=\"T_5c28c_row7_col2\" class=\"data row7 col2\" >0.5329</td>\n",
       "                        <td id=\"T_5c28c_row7_col3\" class=\"data row7 col3\" >0.5642</td>\n",
       "                        <td id=\"T_5c28c_row7_col4\" class=\"data row7 col4\" >0.5605</td>\n",
       "                        <td id=\"T_5c28c_row7_col5\" class=\"data row7 col5\" >0.3382</td>\n",
       "                        <td id=\"T_5c28c_row7_col6\" class=\"data row7 col6\" >0.3507</td>\n",
       "            </tr>\n",
       "            <tr>\n",
       "                        <th id=\"T_5c28c_level0_row8\" class=\"row_heading level0 row8\" >8</th>\n",
       "                        <td id=\"T_5c28c_row8_col0\" class=\"data row8 col0\" >0.5940</td>\n",
       "                        <td id=\"T_5c28c_row8_col1\" class=\"data row8 col1\" >0.7503</td>\n",
       "                        <td id=\"T_5c28c_row8_col2\" class=\"data row8 col2\" >0.5289</td>\n",
       "                        <td id=\"T_5c28c_row8_col3\" class=\"data row8 col3\" >0.5284</td>\n",
       "                        <td id=\"T_5c28c_row8_col4\" class=\"data row8 col4\" >0.5484</td>\n",
       "                        <td id=\"T_5c28c_row8_col5\" class=\"data row8 col5\" >0.3429</td>\n",
       "                        <td id=\"T_5c28c_row8_col6\" class=\"data row8 col6\" >0.3549</td>\n",
       "            </tr>\n",
       "            <tr>\n",
       "                        <th id=\"T_5c28c_level0_row9\" class=\"row_heading level0 row9\" >9</th>\n",
       "                        <td id=\"T_5c28c_row9_col0\" class=\"data row9 col0\" >0.5788</td>\n",
       "                        <td id=\"T_5c28c_row9_col1\" class=\"data row9 col1\" >0.7244</td>\n",
       "                        <td id=\"T_5c28c_row9_col2\" class=\"data row9 col2\" >0.5137</td>\n",
       "                        <td id=\"T_5c28c_row9_col3\" class=\"data row9 col3\" >0.5431</td>\n",
       "                        <td id=\"T_5c28c_row9_col4\" class=\"data row9 col4\" >0.5383</td>\n",
       "                        <td id=\"T_5c28c_row9_col5\" class=\"data row9 col5\" >0.3117</td>\n",
       "                        <td id=\"T_5c28c_row9_col6\" class=\"data row9 col6\" >0.3259</td>\n",
       "            </tr>\n",
       "            <tr>\n",
       "                        <th id=\"T_5c28c_level0_row10\" class=\"row_heading level0 row10\" >Mean</th>\n",
       "                        <td id=\"T_5c28c_row10_col0\" class=\"data row10 col0\" >0.5927</td>\n",
       "                        <td id=\"T_5c28c_row10_col1\" class=\"data row10 col1\" >0.7301</td>\n",
       "                        <td id=\"T_5c28c_row10_col2\" class=\"data row10 col2\" >0.5286</td>\n",
       "                        <td id=\"T_5c28c_row10_col3\" class=\"data row10 col3\" >0.5588</td>\n",
       "                        <td id=\"T_5c28c_row10_col4\" class=\"data row10 col4\" >0.5524</td>\n",
       "                        <td id=\"T_5c28c_row10_col5\" class=\"data row10 col5\" >0.3343</td>\n",
       "                        <td id=\"T_5c28c_row10_col6\" class=\"data row10 col6\" >0.3494</td>\n",
       "            </tr>\n",
       "            <tr>\n",
       "                        <th id=\"T_5c28c_level0_row11\" class=\"row_heading level0 row11\" >SD</th>\n",
       "                        <td id=\"T_5c28c_row11_col0\" class=\"data row11 col0\" >0.0103</td>\n",
       "                        <td id=\"T_5c28c_row11_col1\" class=\"data row11 col1\" >0.0140</td>\n",
       "                        <td id=\"T_5c28c_row11_col2\" class=\"data row11 col2\" >0.0128</td>\n",
       "                        <td id=\"T_5c28c_row11_col3\" class=\"data row11 col3\" >0.0157</td>\n",
       "                        <td id=\"T_5c28c_row11_col4\" class=\"data row11 col4\" >0.0118</td>\n",
       "                        <td id=\"T_5c28c_row11_col5\" class=\"data row11 col5\" >0.0191</td>\n",
       "                        <td id=\"T_5c28c_row11_col6\" class=\"data row11 col6\" >0.0187</td>\n",
       "            </tr>\n",
       "    </tbody></table>"
      ],
      "text/plain": [
       "<pandas.io.formats.style.Styler at 0x7ff424161750>"
      ]
     },
     "metadata": {},
     "output_type": "display_data"
    }
   ],
   "source": [
    "tuned_gbc = tune_model(gbc,n_iter = 100,optimize = 'AUC') #Optimizing based on AUROC Scores"
   ]
  },
  {
   "cell_type": "code",
   "execution_count": 39,
   "metadata": {},
   "outputs": [
    {
     "data": {
      "image/png": "[encoded data removed]",
      "text/plain": [
       "<Figure size 576x396 with 1 Axes>"
      ]
     },
     "metadata": {},
     "output_type": "display_data"
    }
   ],
   "source": [
    "plot_model(estimator = tuned_gbc, plot = 'learning')#Plotting Learning curve "
   ]
  },
  {
   "cell_type": "code",
   "execution_count": 40,
   "metadata": {},
   "outputs": [
    {
     "data": {
      "image/png": "[encoded data removed]",
      "text/plain": [
       "<Figure size 576x396 with 1 Axes>"
      ]
     },
     "metadata": {},
     "output_type": "display_data"
    }
   ],
   "source": [
    "plot_model(estimator = tuned_gbc, plot = 'auc')#Plotting AUC Scores"
   ]
  },
  {
   "cell_type": "code",
   "execution_count": 41,
   "metadata": {},
   "outputs": [
    {
     "data": {
      "image/png": "[encoded data removed]",
      "text/plain": [
       "<Figure size 576x396 with 1 Axes>"
      ]
     },
     "metadata": {},
     "output_type": "display_data"
    }
   ],
   "source": [
    "plot_model(estimator = tuned_gbc, plot = 'confusion_matrix')#Plotting Confusion Matrix"
   ]
  },
  {
   "cell_type": "code",
   "execution_count": 42,
   "metadata": {},
   "outputs": [
    {
     "data": {
      "image/png": "[encoded data removed]",
      "text/plain": [
       "<Figure size 800x500 with 1 Axes>"
      ]
     },
     "metadata": {},
     "output_type": "display_data"
    }
   ],
   "source": [
    "plot_model(estimator = tuned_gbc, plot = 'feature')#Feature Importances Based on GBModel"
   ]
  },
  {
   "cell_type": "code",
   "execution_count": 43,
   "metadata": {},
   "outputs": [
    {
     "data": {
      "application/vnd.jupyter.widget-view+json": {
       "model_id": "a5c7cd3efe494db2912f1e7614725f7a",
       "version_major": 2,
       "version_minor": 0
      },
      "text/plain": [
       "interactive(children=(ToggleButtons(description='Plot Type:', icons=('',), options=(('Hyperparameters', 'param…"
      ]
     },
     "metadata": {},
     "output_type": "display_data"
    }
   ],
   "source": [
    "evaluate_model(tuned_gbc)"
   ]
  },
  {
   "cell_type": "code",
   "execution_count": null,
   "metadata": {},
   "outputs": [],
   "source": [
    "#interpret_model(tuned_gbc)"
   ]
  },
  {
   "cell_type": "code",
   "execution_count": null,
   "metadata": {},
   "outputs": [],
   "source": [
    "#predict_model(tuned_gbc, data=X_test)"
   ]
  },
  {
   "cell_type": "markdown",
   "metadata": {},
   "source": [
    "<h1 style=\"background-color:lightgreen;color:white;text-align:center;\">ADABoost Model</h1>"
   ]
  },
  {
   "cell_type": "code",
   "execution_count": 44,
   "metadata": {},
   "outputs": [
    {
     "name": "stdout",
     "output_type": "stream",
     "text": [
      "Best parameters {'algorithm': 'SAMME', 'base_estimator__criterion': 'entropy', 'base_estimator__splitter': 'random', 'learning_rate': 0.05, 'n_estimators': 20}\n",
      "-----\n",
      "Mean cross-validated accuracy score of the best_estimator: 0.594\n"
     ]
    }
   ],
   "source": [
    "from sklearn.model_selection import GridSearchCV\n",
    "from sklearn.ensemble import  AdaBoostClassifier\n",
    "from sklearn.tree import DecisionTreeClassifier\n",
    "ada_clf = AdaBoostClassifier(DecisionTreeClassifier(max_depth=8),random_state = 42)\n",
    "parameters = {\"base_estimator__criterion\" : [\"gini\", \"entropy\"],\n",
    "              \"base_estimator__splitter\" :   [\"random\"],\n",
    "              \"algorithm\" : [\"SAMME\",\"SAMME.R\"],\n",
    "              \"n_estimators\" :[5,10,15,20,100],\n",
    "              \"learning_rate\":  [0.05, 0.5, 1]}\n",
    "ada_clf = GridSearchCV(ada_clf, parameters, cv=3, scoring=\"accuracy\")\n",
    "ada_clf.fit(X_train, y_train)\n",
    "print(f'Best parameters {ada_clf.best_params_}')\n",
    "print('-----')\n",
    "print(f'Mean cross-validated accuracy score of the best_estimator: '+f'{ada_clf.best_score_:.3f}')"
   ]
  },
  {
   "cell_type": "code",
   "execution_count": 45,
   "metadata": {},
   "outputs": [
    {
     "name": "stdout",
     "output_type": "stream",
     "text": [
      "Test Accuracy: 0.5861027190332326\n"
     ]
    }
   ],
   "source": [
    "print(\"Test Accuracy:\",ada_clf.score(X_test, y_test))"
   ]
  },
  {
   "cell_type": "markdown",
   "metadata": {},
   "source": [
    "<h1 style=\"background-color:lightgreen;color:white;text-align:center;\">Confusion Matrix</h1>"
   ]
  },
  {
   "cell_type": "code",
   "execution_count": 46,
   "metadata": {
    "_kg_hide-input": true,
    "_kg_hide-output": true
   },
   "outputs": [
    {
     "data": {
      "image/png": "[encoded data removed]",
      "text/plain": [
       "<Figure size 576x576 with 2 Axes>"
      ]
     },
     "metadata": {},
     "output_type": "display_data"
    }
   ],
   "source": [
    "from sklearn.metrics import classification_report , confusion_matrix , accuracy_score\n",
    "from mlxtend.plotting import plot_confusion_matrix\n",
    "\n",
    "Y_Pred=ada_clf.predict(X_test)\n",
    "cnf_mat=confusion_matrix(y_test, Y_Pred)\n",
    "fig, ax = plot_confusion_matrix(conf_mat=cnf_mat,figsize=(8, 8),\n",
    "                                show_absolute=True,\n",
    "                                show_normed=True,\n",
    "                                colorbar=True)\n",
    "plt.show()"
   ]
  },
  {
   "cell_type": "code",
   "execution_count": 47,
   "metadata": {},
   "outputs": [
    {
     "data": {
      "image/png": "[encoded data removed]",
      "text/plain": [
       "<Figure size 576x576 with 1 Axes>"
      ]
     },
     "metadata": {},
     "output_type": "display_data"
    },
    {
     "data": {
      "text/plain": [
       "<AxesSubplot:title={'center':'GridSearchCV Confusion Matrix'}, xlabel='Predicted Class', ylabel='True Class'>"
      ]
     },
     "execution_count": 47,
     "metadata": {},
     "output_type": "execute_result"
    }
   ],
   "source": [
    "from yellowbrick.classifier import ConfusionMatrix\n",
    "fig=plt.figure(figsize=(8,8))\n",
    "classes=[\"0\", \"1\", \"2\"]\n",
    "cnf_mat=ConfusionMatrix(ada_clf, classes=classes,label_encoder={0: 'non_Profitable', 1: 'Group_1', 2: 'Group_2'})\n",
    "cnf_mat.fit(X_train, y_train)\n",
    "cnf_mat.score(X_test, y_test)\n",
    "cnf_mat.show()"
   ]
  },
  {
   "cell_type": "markdown",
   "metadata": {},
   "source": [
    "<h1 style=\"background-color:lightgreen;color:white;text-align:center;\">Classification Report</h1>"
   ]
  },
  {
   "cell_type": "code",
   "execution_count": 48,
   "metadata": {},
   "outputs": [
    {
     "data": {
      "image/png": "[encoded data removed]",
      "text/plain": [
       "<Figure size 864x504 with 2 Axes>"
      ]
     },
     "metadata": {},
     "output_type": "display_data"
    },
    {
     "data": {
      "text/plain": [
       "<AxesSubplot:title={'center':'GridSearchCV Classification Report'}>"
      ]
     },
     "execution_count": 48,
     "metadata": {},
     "output_type": "execute_result"
    }
   ],
   "source": [
    "fig=plt.figure(figsize=(12,7))\n",
    "from yellowbrick.classifier import ClassificationReport\n",
    "classes=[\"0\", \"1\", \"2\"]\n",
    "visualizer = ClassificationReport(ada_clf, classes=classes, support=True)\n",
    "visualizer.fit(X_train, y_train)        # Fit the visualizer and the model\n",
    "visualizer.score(X_test, y_test)        # Evaluate the model on the test data\n",
    "visualizer.show()       "
   ]
  },
  {
   "cell_type": "markdown",
   "metadata": {},
   "source": [
    "<h1 style=\"background-color:lightgreen;color:white;text-align:center;\">Precision-Recall Curve</h1>"
   ]
  },
  {
   "cell_type": "code",
   "execution_count": 49,
   "metadata": {},
   "outputs": [
    {
     "data": {
      "image/png": "[encoded data removed]",
      "text/plain": [
       "<Figure size 1080x576 with 1 Axes>"
      ]
     },
     "metadata": {},
     "output_type": "display_data"
    },
    {
     "data": {
      "text/plain": [
       "<AxesSubplot:title={'center':'Precision-Recall Curve for GridSearchCV'}, xlabel='Recall', ylabel='Precision'>"
      ]
     },
     "execution_count": 49,
     "metadata": {},
     "output_type": "execute_result"
    }
   ],
   "source": [
    "fig=plt.figure(figsize=(15,8))\n",
    "from yellowbrick.classifier import PrecisionRecallCurve\n",
    "viz = PrecisionRecallCurve(ada_clf,per_class=True,\n",
    "    cmap=\"Set1\")\n",
    "viz.fit(X_train, y_train)\n",
    "viz.score(X_test, y_test)\n",
    "viz.show()"
   ]
  },
  {
   "cell_type": "markdown",
   "metadata": {},
   "source": [
    "<h1 style=\"background-color:lightgreen;color:white;text-align:center;\">AUROC</h1>"
   ]
  },
  {
   "cell_type": "code",
   "execution_count": 50,
   "metadata": {},
   "outputs": [
    {
     "data": {
      "image/png": "[encoded data removed]",
      "text/plain": [
       "<Figure size 1296x576 with 1 Axes>"
      ]
     },
     "metadata": {},
     "output_type": "display_data"
    },
    {
     "data": {
      "text/plain": [
       "<AxesSubplot:title={'center':'ROC Curves for GridSearchCV'}, xlabel='False Positive Rate', ylabel='True Positive Rate'>"
      ]
     },
     "execution_count": 50,
     "metadata": {},
     "output_type": "execute_result"
    }
   ],
   "source": [
    "fig=plt.figure(figsize=(18,8))\n",
    "from yellowbrick.classifier import ROCAUC\n",
    "visualizer = ROCAUC(ada_clf, classes=[\"0\", \"1\", \"2\"])\n",
    "visualizer.fit(X_train, y_train)        # Fit the training data to the visualizer\n",
    "visualizer.score(X_test, y_test)        # Evaluate the model on the test data\n",
    "visualizer.show() "
   ]
  },
  {
   "cell_type": "markdown",
   "metadata": {},
   "source": [
    "<h1 style=\"background-color:lightgreen;color:white;text-align:center;\">Class Prediction Error</h1>"
   ]
  },
  {
   "cell_type": "code",
   "execution_count": 51,
   "metadata": {},
   "outputs": [
    {
     "data": {
      "image/png": "[encoded data removed]",
      "text/plain": [
       "<Figure size 1296x576 with 1 Axes>"
      ]
     },
     "metadata": {},
     "output_type": "display_data"
    },
    {
     "data": {
      "text/plain": [
       "<AxesSubplot:title={'center':'Class Prediction Error for GridSearchCV'}, xlabel='actual class', ylabel='number of predicted class'>"
      ]
     },
     "execution_count": 51,
     "metadata": {},
     "output_type": "execute_result"
    }
   ],
   "source": [
    "from yellowbrick.classifier import ClassPredictionError\n",
    "fig=plt.figure(figsize=(18,8))\n",
    "visualizer = ClassPredictionError(ada_clf,per_class=True,cmap=\"Set1\")\n",
    "# Fit the training data to the visualizer\n",
    "visualizer.fit(X_train, y_train)\n",
    "# Evaluate the model on the test data\n",
    "visualizer.score(X_test, y_test)\n",
    "# Draw visualization\n",
    "visualizer.show()"
   ]
  },
  {
   "cell_type": "markdown",
   "metadata": {},
   "source": [
    "<h1 style=\"background-color:lightgreen;color:white;text-align:center;\">Observations</h1>"
   ]
  },
  {
   "cell_type": "markdown",
   "metadata": {},
   "source": [
    "Based on my Analysis model would suggest to go for Customers in Group 1. Reason being:\n",
    "1. Our Model Accuracy being 59% says about 59% of time it correctly labelled the customer in respective groups.\n",
    "2. The precision of Model for Class1(0.63) > Class 0(0.36) & Class 2(0.57) which says among the labelled customers as Class 1. Model correctly predicts them as class 1 with score of 63% i.e 63 out of every 100 class 1 customers are correctly predicted.\n",
    "3. In this scenario we want our assumptions to be more correct rather than false negatives and true negative( i.e we want to be more confident in our decisions so based on True Positive rates we can see 80% True Positive Scores.). Though it would also depend on customer behaviour and other demographic and social factors.\n",
    "4. Also the Recall Score of Class 1 Group is better than other two group which says (False Positive better than False Negative). \n",
    "<br>\n",
    "\n",
    "**Suggestion:** Should perform A/B Testing. \n",
    "\n",
    "<br>\n",
    "**Still Room for Improvement**"
   ]
  },
  {
   "cell_type": "code",
   "execution_count": null,
   "metadata": {},
   "outputs": [],
   "source": []
  }
 ],
 "metadata": {
  "kernelspec": {
   "display_name": "Python 3",
   "language": "python",
   "name": "python3"
  },
  "language_info": {
   "codemirror_mode": {
    "name": "ipython",
    "version": 3
   },
   "file_extension": ".py",
   "mimetype": "text/x-python",
   "name": "python",
   "nbconvert_exporter": "python",
   "pygments_lexer": "ipython3",
   "version": "3.7.9"
  }
 },
 "nbformat": 4,
 "nbformat_minor": 4
}
